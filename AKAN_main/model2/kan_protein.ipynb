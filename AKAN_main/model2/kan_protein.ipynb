{
 "cells": [
  {
   "cell_type": "code",
   "execution_count": 4,
   "id": "initial_id",
   "metadata": {
    "collapsed": true,
    "ExecuteTime": {
     "end_time": "2024-07-26T02:09:20.447845Z",
     "start_time": "2024-07-26T02:09:18.500216Z"
    }
   },
   "outputs": [],
   "source": [
    "from kan2 import *\n",
    "import torch\n",
    "import random\n",
    "import numpy as np"
   ]
  },
  {
   "cell_type": "code",
   "execution_count": 5,
   "outputs": [],
   "source": [
    "# Hyperparameters\n",
    "PROTEIN_WINDOW_SIZE = 5 \n",
    "\n",
    "# define the universe of possible input amino acids, ie. vocab list\n",
    "aa_list = 'ARNDCQEGHILKMFPSTWYVX'"
   ],
   "metadata": {
    "collapsed": false,
    "ExecuteTime": {
     "end_time": "2024-07-26T02:11:35.623316Z",
     "start_time": "2024-07-26T02:11:35.616811Z"
    }
   },
   "id": "4538c3d5ac6f4c8d"
  },
  {
   "cell_type": "code",
   "execution_count": 6,
   "outputs": [],
   "source": [
    "def one_hot_encode(protein_sequence):\n",
    "    \"\"\"\n",
    "    One-hot encodes a protein sequence.\n",
    "\n",
    "    Args:\n",
    "        protein_sequence (str): The input protein sequence.\n",
    "\n",
    "    Returns:\n",
    "        numpy.array: The one-hot encoded representation of the protein sequence.\n",
    "    \"\"\"\n",
    "    # Create a dictionary mapping amino acids to indices\n",
    "    aa_to_index = {aa: i for i, aa in enumerate(aa_list)}\n",
    "    \n",
    "    # Initialize an array of zeros with shape (sequence_length, alphabet_length)\n",
    "    encoding = np.zeros((len(protein_sequence), len(aa_list)))\n",
    "    \n",
    "    # Iterate over the protein sequence and set the corresponding index to 1\n",
    "    for i, aa in enumerate(protein_sequence):\n",
    "        if aa in aa_to_index:\n",
    "            encoding[i, aa_to_index[aa]] = 1\n",
    "        else:\n",
    "            # If the amino acid is not in the alphabet, set the last index to 1 (unknown)\n",
    "            encoding[i, -1] = 1\n",
    "    \n",
    "    return encoding"
   ],
   "metadata": {
    "collapsed": false,
    "ExecuteTime": {
     "end_time": "2024-07-26T02:11:36.224622Z",
     "start_time": "2024-07-26T02:11:36.218487Z"
    }
   },
   "id": "e222dac82050f74"
  },
  {
   "cell_type": "code",
   "execution_count": 7,
   "outputs": [
    {
     "name": "stdout",
     "output_type": "stream",
     "text": [
      "SXKMY 1\n",
      "HCKQQ 1\n",
      "NDKHI 1\n",
      "RDKNE 1\n",
      "XPSQH 0\n",
      "WDSIA 0\n",
      "DMSKT 0\n",
      "NHSVI 0\n",
      "XASHQ 0\n",
      "XCSLI 0\n",
      "RQSWL 0\n",
      "FYSVK 0\n",
      "NHKLE 1\n",
      "HDKQX 1\n",
      "LESPE 0\n",
      "PVKCP 1\n",
      "NPKXQ 1\n",
      "RRKXS 1\n",
      "IDKFM 1\n",
      "NWSGY 0\n",
      "TXSGG 0\n",
      "FMSYG 0\n",
      "MNKSN 1\n",
      "GDSPR 0\n",
      "PLSVV 0\n",
      "VSKTR 1\n",
      "NKSIG 0\n",
      "CGKFH 1\n",
      "IISQC 0\n",
      "FGSPV 0\n",
      "MYKNA 1\n",
      "MGSVX 0\n",
      "GXKVW 1\n",
      "LQKWX 1\n",
      "TAKYE 1\n",
      "IPKGH 1\n",
      "YHSRW 0\n",
      "SVKFL 1\n",
      "FLKCW 1\n",
      "PISGP 0\n"
     ]
    },
    {
     "name": "stderr",
     "output_type": "stream",
     "text": [
      "/home/wangli/anaconda3/envs/transformer-env/lib/python3.7/site-packages/ipykernel_launcher.py:39: UserWarning: Creating a tensor from a list of numpy.ndarrays is extremely slow. Please consider converting the list to a single numpy.ndarray with numpy.array() before converting to a tensor. (Triggered internally at ../torch/csrc/utils/tensor_new.cpp:230.)\n"
     ]
    }
   ],
   "source": [
    "def generate_sample_protein_dataset(num_samples=20, protein_window_size=5):\n",
    "    \"\"\"\n",
    "    Generate a dataset of protein sequences of length 11, keeping Lysine(K) in the center for label 1 and Serine(S) for label 0. \n",
    "\n",
    "    Args:\n",
    "        num_samples (int): Number of samples to generate.\n",
    "        protein_window_size (int): Length of the protein sequence.\n",
    "\n",
    "    Returns:\n",
    "        dict: A dictionary containing train_input, test_input, train_label, and test_label.\n",
    "    \"\"\"\n",
    "    \n",
    "    dataset = {'train_input': [], 'test_input': [], 'train_label': [], 'test_label': []}\n",
    "    alphabet = 'ARNDCQEGHILKMFPSTWYVX'\n",
    "\n",
    "    # Generate half of the samples with label 1 and half with label 0\n",
    "    label_sequence = [1] * (num_samples // 2) + [0] * (num_samples // 2)\n",
    "    random.shuffle(label_sequence)\n",
    "\n",
    "    for label in label_sequence:\n",
    "        # Generate a protein sequence with 'K' in the middle for label 1 and 'S' for label 0\n",
    "        if label == 1:\n",
    "            center_aa = 'K'\n",
    "        else:\n",
    "            center_aa = 'S'\n",
    "        sequence = ''.join(random.choices(alphabet.replace(center_aa, ''), k=protein_window_size//2)) + center_aa + ''.join(random.choices(alphabet.replace(center_aa, ''), k=protein_window_size//2))\n",
    "        print(sequence, label)\n",
    "        encoded_sequence = one_hot_encode(sequence).flatten()\n",
    "\n",
    "        # Split the dataset into train and test (50% each)\n",
    "        if len(dataset['train_input']) < num_samples // 2:\n",
    "            dataset['train_input'].append(encoded_sequence)\n",
    "            dataset['train_label'].append(label)\n",
    "        else:\n",
    "            dataset['test_input'].append(encoded_sequence)\n",
    "            dataset['test_label'].append(label)\n",
    "\n",
    "    # Convert lists to tensors\n",
    "    dataset['train_input'] = torch.tensor(dataset['train_input'])\n",
    "    dataset['test_input'] = torch.tensor(dataset['test_input'])\n",
    "    dataset['train_label'] = torch.tensor(dataset['train_label']).view(-1, 1)\n",
    "    dataset['test_label'] = torch.tensor(dataset['test_label']).view(-1, 1)\n",
    "\n",
    "    return dataset\n",
    "\n",
    "# Generate dataset with 10 samples\n",
    "dataset = generate_sample_protein_dataset(40)"
   ],
   "metadata": {
    "collapsed": false,
    "ExecuteTime": {
     "end_time": "2024-07-26T02:11:36.809106Z",
     "start_time": "2024-07-26T02:11:36.791038Z"
    }
   },
   "id": "867f7b2aad5a5ce4"
  },
  {
   "cell_type": "code",
   "execution_count": 11,
   "outputs": [
    {
     "data": {
      "text/plain": "(tensor([0., 0., 0., 0., 0., 0., 0., 0., 0., 0., 0., 0., 0., 0., 0., 1., 0., 0.,\n         0., 0., 0., 0., 0., 0., 0., 0., 0., 0., 0., 0., 0., 0., 0., 0., 0., 0.,\n         0., 0., 0., 0., 0., 1., 0., 0., 0., 0., 0., 0., 0., 0., 0., 0., 0., 1.,\n         0., 0., 0., 0., 0., 0., 0., 0., 0., 0., 0., 0., 0., 0., 0., 0., 0., 0.,\n         0., 0., 0., 1., 0., 0., 0., 0., 0., 0., 0., 0., 0., 0., 0., 0., 0., 0.,\n         0., 0., 0., 0., 0., 0., 0., 0., 0., 0., 0., 0., 1., 0., 0.],\n        dtype=torch.float64),\n 105)"
     },
     "execution_count": 11,
     "metadata": {},
     "output_type": "execute_result"
    }
   ],
   "source": [
    "dataset['train_input'][0],len(dataset['train_input'][0]),"
   ],
   "metadata": {
    "collapsed": false,
    "ExecuteTime": {
     "end_time": "2024-07-26T02:12:31.449641Z",
     "start_time": "2024-07-26T02:12:31.444487Z"
    }
   },
   "id": "529db695ae59a038"
  },
  {
   "cell_type": "code",
   "execution_count": 6,
   "outputs": [
    {
     "data": {
      "text/plain": "torch.Size([20, 105])"
     },
     "execution_count": 6,
     "metadata": {},
     "output_type": "execute_result"
    }
   ],
   "source": [
    "dataset['test_input'].shape"
   ],
   "metadata": {
    "collapsed": false,
    "ExecuteTime": {
     "end_time": "2024-07-25T08:05:50.984402Z",
     "start_time": "2024-07-25T08:05:50.939640Z"
    }
   },
   "id": "e8dc3b11087cecaf"
  },
  {
   "cell_type": "code",
   "execution_count": 7,
   "outputs": [
    {
     "data": {
      "text/plain": "torch.Size([20, 1])"
     },
     "execution_count": 7,
     "metadata": {},
     "output_type": "execute_result"
    }
   ],
   "source": [
    "dataset['train_label'].shape"
   ],
   "metadata": {
    "collapsed": false,
    "ExecuteTime": {
     "end_time": "2024-07-25T08:05:51.035685Z",
     "start_time": "2024-07-25T08:05:50.984196Z"
    }
   },
   "id": "e1b7314ed1dadb57"
  },
  {
   "cell_type": "code",
   "execution_count": 8,
   "outputs": [
    {
     "data": {
      "text/plain": "tensor([[1],\n        [1],\n        [0],\n        [1],\n        [0],\n        [1],\n        [1],\n        [1],\n        [1],\n        [1],\n        [0],\n        [1],\n        [0],\n        [1],\n        [0],\n        [0],\n        [1],\n        [0],\n        [1],\n        [0]])"
     },
     "execution_count": 8,
     "metadata": {},
     "output_type": "execute_result"
    }
   ],
   "source": [
    "dataset['train_label']"
   ],
   "metadata": {
    "collapsed": false,
    "ExecuteTime": {
     "end_time": "2024-07-25T08:05:51.131625Z",
     "start_time": "2024-07-25T08:05:51.039570Z"
    }
   },
   "id": "580ca8140ed57a22"
  },
  {
   "cell_type": "code",
   "execution_count": 9,
   "outputs": [
    {
     "name": "stderr",
     "output_type": "stream",
     "text": [
      "train loss: 1.07e-03 | test loss: 2.27e-01 | reg: 9.03e+01 : 100%|████| 5/5 [00:31<00:00,  6.35s/it]\n"
     ]
    },
    {
     "data": {
      "text/plain": "(1.0, 0.8999999761581421)"
     },
     "execution_count": 9,
     "metadata": {},
     "output_type": "execute_result"
    }
   ],
   "source": [
    "model = KAN(width=[105,3,2], grid=3, k=2)\n",
    "def train_acc():\n",
    "    return torch.mean((torch.round(model(dataset['train_input'])[:,0]) == dataset['train_label'][:,0]).float())\n",
    "\n",
    "def test_acc():\n",
    "    return torch.mean((torch.round(model(dataset['test_input'])[:,0]) == dataset['test_label'][:,0]).float())\n",
    "\n",
    "results = model.train(dataset, opt=\"LBFGS\", steps=5, metrics=(train_acc, test_acc));\n",
    "results['train_acc'][-1], results['test_acc'][-1]"
   ],
   "metadata": {
    "collapsed": false,
    "ExecuteTime": {
     "end_time": "2024-07-25T08:06:22.976661Z",
     "start_time": "2024-07-25T08:05:51.131370Z"
    }
   },
   "id": "a46644c053b14b56"
  },
  {
   "cell_type": "code",
   "execution_count": 9,
   "outputs": [],
   "source": [],
   "metadata": {
    "collapsed": false,
    "ExecuteTime": {
     "end_time": "2024-07-25T08:06:22.991356Z",
     "start_time": "2024-07-25T08:06:22.951167Z"
    }
   },
   "id": "c2624042f2ec0c9b"
  },
  {
   "cell_type": "code",
   "execution_count": 10,
   "outputs": [
    {
     "ename": "AttributeError",
     "evalue": "'KAN' object has no attribute 'acts'",
     "output_type": "error",
     "traceback": [
      "\u001B[0;31m---------------------------------------------------------------------------\u001B[0m",
      "\u001B[0;31mAttributeError\u001B[0m                            Traceback (most recent call last)",
      "\u001B[0;32m/tmp/ipykernel_1422771/4136292364.py\u001B[0m in \u001B[0;36m<module>\u001B[0;34m\u001B[0m\n\u001B[1;32m      1\u001B[0m \u001B[0mmodel\u001B[0m\u001B[0;34m=\u001B[0m\u001B[0mmodel\u001B[0m\u001B[0;34m.\u001B[0m\u001B[0mprune\u001B[0m\u001B[0;34m(\u001B[0m\u001B[0;34m)\u001B[0m\u001B[0;34m\u001B[0m\u001B[0;34m\u001B[0m\u001B[0m\n\u001B[0;32m----> 2\u001B[0;31m \u001B[0mmodel\u001B[0m\u001B[0;34m.\u001B[0m\u001B[0mplot\u001B[0m\u001B[0;34m(\u001B[0m\u001B[0;34m)\u001B[0m\u001B[0;34m\u001B[0m\u001B[0;34m\u001B[0m\u001B[0m\n\u001B[0m",
      "\u001B[0;32m/tmp/pycharm_project_763/kan2/KAN.py\u001B[0m in \u001B[0;36mplot\u001B[0;34m(self, folder, beta, mask, mode, scale, tick, sample, in_vars, out_vars, title)\u001B[0m\n\u001B[1;32m    602\u001B[0m             \u001B[0;32mfor\u001B[0m \u001B[0mi\u001B[0m \u001B[0;32min\u001B[0m \u001B[0mrange\u001B[0m\u001B[0;34m(\u001B[0m\u001B[0mself\u001B[0m\u001B[0;34m.\u001B[0m\u001B[0mwidth\u001B[0m\u001B[0;34m[\u001B[0m\u001B[0ml\u001B[0m\u001B[0;34m]\u001B[0m\u001B[0;34m)\u001B[0m\u001B[0;34m:\u001B[0m\u001B[0;34m\u001B[0m\u001B[0;34m\u001B[0m\u001B[0m\n\u001B[1;32m    603\u001B[0m                 \u001B[0;32mfor\u001B[0m \u001B[0mj\u001B[0m \u001B[0;32min\u001B[0m \u001B[0mrange\u001B[0m\u001B[0;34m(\u001B[0m\u001B[0mself\u001B[0m\u001B[0;34m.\u001B[0m\u001B[0mwidth\u001B[0m\u001B[0;34m[\u001B[0m\u001B[0ml\u001B[0m \u001B[0;34m+\u001B[0m \u001B[0;36m1\u001B[0m\u001B[0;34m]\u001B[0m\u001B[0;34m)\u001B[0m\u001B[0;34m:\u001B[0m\u001B[0;34m\u001B[0m\u001B[0;34m\u001B[0m\u001B[0m\n\u001B[0;32m--> 604\u001B[0;31m                     \u001B[0mrank\u001B[0m \u001B[0;34m=\u001B[0m \u001B[0mtorch\u001B[0m\u001B[0;34m.\u001B[0m\u001B[0margsort\u001B[0m\u001B[0;34m(\u001B[0m\u001B[0mself\u001B[0m\u001B[0;34m.\u001B[0m\u001B[0macts\u001B[0m\u001B[0;34m[\u001B[0m\u001B[0ml\u001B[0m\u001B[0;34m]\u001B[0m\u001B[0;34m[\u001B[0m\u001B[0;34m:\u001B[0m\u001B[0;34m,\u001B[0m \u001B[0mi\u001B[0m\u001B[0;34m]\u001B[0m\u001B[0;34m)\u001B[0m\u001B[0;34m\u001B[0m\u001B[0;34m\u001B[0m\u001B[0m\n\u001B[0m\u001B[1;32m    605\u001B[0m                     \u001B[0mfig\u001B[0m\u001B[0;34m,\u001B[0m \u001B[0max\u001B[0m \u001B[0;34m=\u001B[0m \u001B[0mplt\u001B[0m\u001B[0;34m.\u001B[0m\u001B[0msubplots\u001B[0m\u001B[0;34m(\u001B[0m\u001B[0mfigsize\u001B[0m\u001B[0;34m=\u001B[0m\u001B[0;34m(\u001B[0m\u001B[0mw_large\u001B[0m\u001B[0;34m,\u001B[0m \u001B[0mw_large\u001B[0m\u001B[0;34m)\u001B[0m\u001B[0;34m)\u001B[0m\u001B[0;34m\u001B[0m\u001B[0;34m\u001B[0m\u001B[0m\n\u001B[1;32m    606\u001B[0m \u001B[0;34m\u001B[0m\u001B[0m\n",
      "\u001B[0;32m~/anaconda3/envs/transformer-env/lib/python3.7/site-packages/torch/nn/modules/module.py\u001B[0m in \u001B[0;36m__getattr__\u001B[0;34m(self, name)\u001B[0m\n\u001B[1;32m   1268\u001B[0m                 \u001B[0;32mreturn\u001B[0m \u001B[0mmodules\u001B[0m\u001B[0;34m[\u001B[0m\u001B[0mname\u001B[0m\u001B[0;34m]\u001B[0m\u001B[0;34m\u001B[0m\u001B[0;34m\u001B[0m\u001B[0m\n\u001B[1;32m   1269\u001B[0m         raise AttributeError(\"'{}' object has no attribute '{}'\".format(\n\u001B[0;32m-> 1270\u001B[0;31m             type(self).__name__, name))\n\u001B[0m\u001B[1;32m   1271\u001B[0m \u001B[0;34m\u001B[0m\u001B[0m\n\u001B[1;32m   1272\u001B[0m     \u001B[0;32mdef\u001B[0m \u001B[0m__setattr__\u001B[0m\u001B[0;34m(\u001B[0m\u001B[0mself\u001B[0m\u001B[0;34m,\u001B[0m \u001B[0mname\u001B[0m\u001B[0;34m:\u001B[0m \u001B[0mstr\u001B[0m\u001B[0;34m,\u001B[0m \u001B[0mvalue\u001B[0m\u001B[0;34m:\u001B[0m \u001B[0mUnion\u001B[0m\u001B[0;34m[\u001B[0m\u001B[0mTensor\u001B[0m\u001B[0;34m,\u001B[0m \u001B[0;34m'Module'\u001B[0m\u001B[0;34m]\u001B[0m\u001B[0;34m)\u001B[0m \u001B[0;34m->\u001B[0m \u001B[0;32mNone\u001B[0m\u001B[0;34m:\u001B[0m\u001B[0;34m\u001B[0m\u001B[0;34m\u001B[0m\u001B[0m\n",
      "\u001B[0;31mAttributeError\u001B[0m: 'KAN' object has no attribute 'acts'"
     ]
    }
   ],
   "source": [
    "model=model.prune()\n",
    "model.plot()"
   ],
   "metadata": {
    "collapsed": false,
    "ExecuteTime": {
     "end_time": "2024-07-25T08:06:26.643289Z",
     "start_time": "2024-07-25T08:06:26.588651Z"
    }
   },
   "id": "4103ca1397414862"
  },
  {
   "cell_type": "code",
   "execution_count": null,
   "outputs": [],
   "source": [],
   "metadata": {
    "collapsed": false
   },
   "id": "82bef5f90f13e13e"
  }
 ],
 "metadata": {
  "kernelspec": {
   "display_name": "Python 3",
   "language": "python",
   "name": "python3"
  },
  "language_info": {
   "codemirror_mode": {
    "name": "ipython",
    "version": 2
   },
   "file_extension": ".py",
   "mimetype": "text/x-python",
   "name": "python",
   "nbconvert_exporter": "python",
   "pygments_lexer": "ipython2",
   "version": "2.7.6"
  }
 },
 "nbformat": 4,
 "nbformat_minor": 5
}
