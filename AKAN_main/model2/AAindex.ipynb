{
 "cells": [
  {
   "cell_type": "code",
   "execution_count": 4,
   "id": "initial_id",
   "metadata": {
    "collapsed": true,
    "ExecuteTime": {
     "end_time": "2024-08-22T07:11:37.148305Z",
     "start_time": "2024-08-22T07:11:37.128353Z"
    }
   },
   "outputs": [
    {
     "name": "stdout",
     "output_type": "stream",
     "text": [
      "(19, 566) [[ 4.35   0.61   1.18  ...  0.     6.     0.   ]\n",
      " [ 4.76   0.46   0.05  ...  0.    10.4    2.969]\n",
      " [ 4.29   0.47   0.11  ...  0.    10.667  1.822]\n",
      " ...\n",
      " [ 3.95   1.32   1.08  ...  0.     9.     6.   ]\n",
      " [ 4.7    2.65   0.77  ...  0.211 12.75   2.044]\n",
      " [ 4.6    1.88   0.39  ... -0.96  12.222  1.599]]\n"
     ]
    }
   ],
   "source": [
    "import pandas as pd\n",
    "import numpy as np\n",
    "\n",
    "# 载入AAindex数据\n",
    "def load_aaindex(filepath):\n",
    "    return pd.read_csv(filepath)\n",
    "\n",
    "# 根据AAindex矩阵和蛋白质序列进行编码\n",
    "def encode_protein(sequence, aaindex):\n",
    "    encoded_features = []\n",
    "    for amino_acid in sequence:\n",
    "        if amino_acid in aaindex.columns:\n",
    "            # 将每个氨基酸的AAindex值添加到特征列表中\n",
    "            encoded_features.append(aaindex[amino_acid].values)\n",
    "        else:\n",
    "            # 如果某个氨基酸在AAindex中没有对应的列，可以添加一个全0向量\n",
    "            # 这个向量的长度应该与其他特征向量长度相同\n",
    "            encoded_features.append(np.zeros(aaindex.shape[0]))\n",
    "    return np.array(encoded_features)\n",
    "\n",
    "# 示例\n",
    "filepath = 'aaindex1.csv'  # AAindex文件路径\n",
    "aaindex = load_aaindex(filepath)  # 加载AAindex数据\n",
    "\n",
    "# 假设你有一个蛋白质序列\n",
    "protein_sequence = \"ADEFGHIKLMNPQRSTVWY\"  # 示例序列\n",
    "\n",
    "# 编码蛋白质序列\n",
    "encoded_sequence = encode_protein(protein_sequence, aaindex)\n",
    "print(encoded_sequence.shape,encoded_sequence)\n"
   ]
  },
  {
   "cell_type": "code",
   "execution_count": 6,
   "outputs": [
    {
     "name": "stdout",
     "output_type": "stream",
     "text": [
      "cuda\n",
      "checkpoint directory created: ./model\n",
      "saving model version 0.0\n"
     ]
    }
   ],
   "source": [
    "from kan import *\n",
    "\n",
    "\n",
    "device = torch.device('cuda' if torch.cuda.is_available() else 'cpu')\n",
    "print(device)\n",
    "\n",
    "# initialize KAN with G=3\n",
    "model = KAN(width=[2,1,1], grid=3, k=3, seed=1)\n",
    "\n",
    "# create dataset\n",
    "f = lambda x: torch.exp(torch.sin(torch.pi*x[:,[0]]) + x[:,[1]]**2)\n",
    "dataset = create_dataset(f, n_var=2)\n"
   ],
   "metadata": {
    "collapsed": false,
    "ExecuteTime": {
     "end_time": "2024-08-22T07:19:26.647125Z",
     "start_time": "2024-08-22T07:19:26.603636Z"
    }
   },
   "id": "ea5d5224429d8274"
  },
  {
   "cell_type": "code",
   "execution_count": 9,
   "outputs": [
    {
     "data": {
      "text/plain": "torch.Size([1000, 2])"
     },
     "execution_count": 9,
     "metadata": {},
     "output_type": "execute_result"
    }
   ],
   "source": [
    "dataset['train_input'].shape"
   ],
   "metadata": {
    "collapsed": false,
    "ExecuteTime": {
     "end_time": "2024-08-22T07:20:01.952452Z",
     "start_time": "2024-08-22T07:20:01.948741Z"
    }
   },
   "id": "a1478b0ad6afc079"
  },
  {
   "cell_type": "code",
   "execution_count": null,
   "outputs": [],
   "source": [],
   "metadata": {
    "collapsed": false
   },
   "id": "e800a138cfbcf2b4"
  }
 ],
 "metadata": {
  "kernelspec": {
   "display_name": "Python 3",
   "language": "python",
   "name": "python3"
  },
  "language_info": {
   "codemirror_mode": {
    "name": "ipython",
    "version": 2
   },
   "file_extension": ".py",
   "mimetype": "text/x-python",
   "name": "python",
   "nbconvert_exporter": "python",
   "pygments_lexer": "ipython2",
   "version": "2.7.6"
  }
 },
 "nbformat": 4,
 "nbformat_minor": 5
}
