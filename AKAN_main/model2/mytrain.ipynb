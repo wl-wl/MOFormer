{
 "cells": [
  {
   "cell_type": "code",
   "execution_count": 13,
   "id": "initial_id",
   "metadata": {
    "collapsed": true,
    "ExecuteTime": {
     "end_time": "2024-09-01T05:44:37.667539Z",
     "start_time": "2024-09-01T05:44:37.659843Z"
    }
   },
   "outputs": [],
   "source": [
    "from kan import KAN\n",
    "from collections import Counter\n",
    "from sklearn.model_selection import KFold, cross_val_score, train_test_split\n",
    "import matplotlib.pyplot as plt\n",
    "from sklearn.datasets import make_moons\n",
    "import torch\n",
    "from sklearn.utils import shuffle\n",
    "import random\n",
    "import numpy as np\n",
    "# torch.set_default_dtype(torch.float32)"
   ]
  },
  {
   "cell_type": "code",
   "execution_count": 14,
   "outputs": [],
   "source": [
    "def read_fasta(file_path):\n",
    "    protein_list=[]\n",
    "    label_list=[]\n",
    "    with open(file_path, 'r') as file:\n",
    "        for line in file:\n",
    "            line = line.strip()\n",
    "            if line.startswith('>'):\n",
    "                # 提取标签\n",
    "                label = line.split('|')[1]\n",
    "                label_list.append(int(label))\n",
    "            else:\n",
    "                # 提取蛋白质序列\n",
    "                protein_list.append(line)\n",
    "\n",
    "    return protein_list, label_list\n",
    "\n",
    "# 示例文件路径\n",
    "train_path = '/tmp/pycharm_project_763/raw/ACP.txt'\n",
    "test_path ='/tmp/pycharm_project_763/raw/ACPT.txt'\n",
    "\n",
    "sequences, y = read_fasta(train_path)\n",
    "sequences_test, y_test = read_fasta(test_path)"
   ],
   "metadata": {
    "collapsed": false,
    "ExecuteTime": {
     "end_time": "2024-09-01T05:44:38.170021Z",
     "start_time": "2024-09-01T05:44:38.161927Z"
    }
   },
   "id": "952317d75ad0c852"
  },
  {
   "cell_type": "code",
   "execution_count": 15,
   "outputs": [],
   "source": [
    "def calculate_aac(protein_list):\n",
    "    amino_acids = 'ACDEFGHIKLMNPQRSTVWY'\n",
    "\n",
    "    # 初始化存储结果的列表\n",
    "    aac_list = []\n",
    "\n",
    "    for protein_sequence in protein_list:\n",
    "        # 初始化AAC特征字典\n",
    "        aac = {aa: 0 for aa in amino_acids}\n",
    "\n",
    "        # 计算每种氨基酸在序列中的频率\n",
    "        for aa in protein_sequence:\n",
    "            if aa in aac:\n",
    "                aac[aa] += 1\n",
    "\n",
    "        # 将频率转换为比例\n",
    "        sequence_length = len(protein_sequence)\n",
    "        aac = [count / sequence_length for aa, count in aac.items()]\n",
    "\n",
    "        # 将结果添加到列表中\n",
    "        aac_list.append(aac)\n",
    "\n",
    "    return aac_list\n",
    "aac_train = calculate_aac(sequences)\n",
    "aac_test = calculate_aac(sequences_test)"
   ],
   "metadata": {
    "collapsed": false,
    "ExecuteTime": {
     "end_time": "2024-09-01T05:44:38.667628Z",
     "start_time": "2024-09-01T05:44:38.667390Z"
    }
   },
   "id": "b8caf604dcc4c687"
  },
  {
   "cell_type": "code",
   "execution_count": null,
   "outputs": [],
   "source": [],
   "metadata": {
    "collapsed": false
   },
   "id": "a3936820f402deee"
  },
  {
   "cell_type": "code",
   "execution_count": 21,
   "outputs": [
    {
     "data": {
      "text/plain": "[0.13513513513513514,\n 0.0,\n 0.02702702702702703,\n 0.02702702702702703,\n 0.02702702702702703,\n 0.10810810810810811,\n 0.0,\n 0.13513513513513514,\n 0.1891891891891892,\n 0.02702702702702703,\n 0.0,\n 0.02702702702702703,\n 0.02702702702702703,\n 0.08108108108108109,\n 0.02702702702702703,\n 0.0,\n 0.02702702702702703,\n 0.10810810810810811,\n 0.02702702702702703,\n 0.0]"
     },
     "execution_count": 21,
     "metadata": {},
     "output_type": "execute_result"
    }
   ],
   "source": [
    "aac_train[0]"
   ],
   "metadata": {
    "collapsed": false,
    "ExecuteTime": {
     "end_time": "2024-09-01T05:45:10.898181Z",
     "start_time": "2024-09-01T05:45:10.894446Z"
    }
   },
   "id": "4e2b2dab657d021f"
  },
  {
   "cell_type": "code",
   "execution_count": 16,
   "outputs": [
    {
     "data": {
      "text/plain": "(500, 8)"
     },
     "execution_count": 16,
     "metadata": {},
     "output_type": "execute_result"
    }
   ],
   "source": [
    "NAKH900113 = {\n",
    "    'A': 1.61, 'L': 1.37,\n",
    "    'R': 0.40, 'K': 0.62,\n",
    "    'N': 0.73, 'M': 1.59,\n",
    "    'D': 0.75, 'F': 1.24,\n",
    "    'C': 0.37, 'P': 0.67,\n",
    "    'Q': 0.61, 'S': 0.68,\n",
    "    'E': 1.50, 'T': 0.92,\n",
    "    'G': 3.12, 'W': 1.63,\n",
    "    'H': 0.46, 'Y': 0.67,\n",
    "    'I': 1.61, 'V': 1.30\n",
    "}\n",
    "KRIW710101={\n",
    "    'A': 4.60, 'L': 3.25,\n",
    "    'R': 6.50, 'K': 7.90,\n",
    "    'N': 5.90, 'M': 1.40,\n",
    "    'D': 5.70, 'F': 3.20,\n",
    "    'C': -1.00, 'P': 7.00,\n",
    "    'Q': 6.10, 'S': 5.25,\n",
    "    'E': 5.60, 'T': 4.80,\n",
    "    'G': 7.60, 'W': 4.00,\n",
    "    'H': 4.50, 'Y': 4.35,\n",
    "    'I': 2.60, 'V': 3.40\n",
    "}\n",
    "HUTJ700103={\n",
    "    'A': 154.33, 'L': 232.30,\n",
    "    'R': 341.01, 'K': 300.46,\n",
    "    'N': 207.90, 'M': 202.65,\n",
    "    'D': 194.91, 'F': 204.74,\n",
    "    'C': 219.79, 'P': 179.93,\n",
    "    'Q': 235.51, 'S': 174.06,\n",
    "    'E': 223.16, 'T': 205.80,\n",
    "    'G': 127.90, 'W': 237.01,\n",
    "    'H': 242.54, 'Y': 229.15,\n",
    "    'I': 233.21, 'V': 207.60\n",
    "}\n",
    "ZIMJ680103={\n",
    "    'A': 0.00, 'L': 0.13,\n",
    "    'R': 52.00, 'K': 49.50,\n",
    "    'N': 3.38, 'M': 1.43,\n",
    "    'D': 49.70, 'F': 0.35,\n",
    "    'C': 1.48, 'P': 1.58,\n",
    "    'Q': 3.53, 'S': 1.67,\n",
    "    'E': 49.90, 'T': 1.66,\n",
    "    'G': 0.00, 'W': 2.10,\n",
    "    'H': 51.60, 'Y': 1.61,\n",
    "    'I': 0.13, 'V': 0.13\n",
    "}\n",
    "TANS770104= {\n",
    "    'A': 1.194, 'L': 0.595,\n",
    "    'R': 0.795, 'K': 1.060,\n",
    "    'N': 0.659, 'M': 0.831,\n",
    "    'D': 1.056, 'F': 0.377,\n",
    "    'C': 0.678, 'P': 3.159,\n",
    "    'Q': 1.290, 'S': 1.444,\n",
    "    'E': 0.928, 'T': 1.172,\n",
    "    'G': 1.015, 'W': 0.452,\n",
    "    'H': 0.611, 'Y': 0.816,\n",
    "    'I': 0.603, 'V': 0.640\n",
    "}\n",
    "CEDJ970105={\n",
    "    'A': 8.3, 'L': 7.4,\n",
    "    'R': 8.7, 'K': 7.9,\n",
    "    'N': 3.7, 'M': 2.3,\n",
    "    'D': 4.7, 'F': 2.7,\n",
    "    'C': 1.6, 'P': 6.9,\n",
    "    'Q': 4.7, 'S': 8.8,\n",
    "    'E': 6.5, 'T': 5.1,\n",
    "    'G': 6.3, 'W': 0.7,\n",
    "    'H': 2.1, 'Y': 2.4,\n",
    "    'I': 3.7, 'V': 5.3\n",
    "}\n",
    "QIAN880127={\n",
    "    'A': -0.05, 'L': 0.04,\n",
    "    'R': 0.06, 'K': -0.42,\n",
    "    'N': 0.00, 'M': 0.25,\n",
    "    'D': 0.15, 'F': 0.09,\n",
    "    'C': 0.30, 'P': 0.31,\n",
    "    'Q': -0.08, 'S': -0.11,\n",
    "    'E': -0.02, 'T': -0.06,\n",
    "    'G': -0.14, 'W': 0.19,\n",
    "    'H': -0.07, 'Y': 0.33,\n",
    "    'I': 0.26, 'V': 0.04\n",
    "}\n",
    "LEVM760107={\n",
    "    'A': 0.025, 'L': 0.19,\n",
    "    'R': 0.20, 'K': 0.19,\n",
    "    'N': 0.10, 'M': 0.19,\n",
    "    'D': 0.10, 'F': 0.39,\n",
    "    'C': 0.10, 'P': 0.17,\n",
    "    'Q': 0.10, 'S': 0.025,\n",
    "    'E': 0.10, 'T': 0.10,\n",
    "    'G': 0.025, 'W': 0.56,\n",
    "    'H': 0.10, 'Y': 0.39,\n",
    "    'I': 0.19, 'V': 0.15\n",
    "}\n",
    "# NAKH900113 【200】，KRIW710101【146】， HUTJ700103【117】，ZIMJ680103【399】，TANS770104【368】，CEDJ970105【459】，QIAN880127【283】，LEVM760107【158】\n",
    "def autocorrelation(protein_list, lag, AAindex_list):\n",
    "    autocorrelation = []\n",
    "    for sequence in protein_list:\n",
    "        temp=[]\n",
    "        for property_values in AAindex_list:\n",
    "        # 将氨基酸序列转换为属性值序列\n",
    "        #     property_values = np.array([property_dict[aa] for aa in sequence])\n",
    "            property_values = [0 if value is None else value for value in property_values]\n",
    "            # 计算属性值的平均值\n",
    "            # print(property_values)\n",
    "            mean_value = np.mean(property_values)\n",
    "            # print(mean_value)\n",
    "            # 计算Moran自相关\n",
    "            n = len(sequence)\n",
    "            autocorr = np.sum((property_values[:-lag] - mean_value) * (property_values[lag:] - mean_value))\n",
    "            autocorr /= (n - lag)\n",
    "            temp.append(autocorr)\n",
    "\n",
    "        autocorrelation.append(temp)\n",
    "\n",
    "    return autocorrelation\n",
    "\n",
    "hydrophobicity = {\n",
    "    'A': 1.8, 'C': 2.5, 'D': -3.5, 'E': -3.5, 'F': 2.8, 'G': -0.4, 'H': -3.2, 'I': 4.5,\n",
    "    'K': -3.9, 'L': 3.8, 'M': 1.9, 'N': -3.5, 'P': -1.6, 'Q': -3.5, 'R': -4.5, 'S': -0.8,\n",
    "    'T': -0.7, 'V': 4.2, 'W': -0.9, 'Y': -1.3\n",
    "}\n",
    "\n",
    "lag = 1  # 步长\n",
    "import pandas as pd\n",
    "    # \"\"\"加载AAindex数据，假设第一列为描述，其余列为各个氨基酸的物理化学属性值。\"\"\"\n",
    "import csv\n",
    "\n",
    "# Path to the CSV file\n",
    "csv_file_path = 'aaindex1.csv'\n",
    "\n",
    "# Initialize an empty list to store the data\n",
    "data = []\n",
    "\n",
    "# Open the CSV file and read it\n",
    "with open(csv_file_path, mode='r', encoding='utf-8') as file:\n",
    "    csv_reader = csv.reader(file)\n",
    "\n",
    "    # Skip the first cell of the first row\n",
    "    for row in csv_reader:\n",
    "        # Append the row with the first cell removed to the data list\n",
    "        # data.append([float(value) for value in row[1:]])\n",
    "        data.append(row[1:])\n",
    "data=data[1:]\n",
    "# float_data = [[float(value) for value in row] for row in data]\n",
    "\n",
    "\n",
    "AAindex_data = [\n",
    "    [float(value) if value not in ['NA', ''] else None for value in row]\n",
    "    for row in data\n",
    "]\n",
    "# NAKH900113 【200】，KRIW710101【146】， HUTJ700103【117】，ZIMJ680103【399】，TANS770104【368】，CEDJ970105【459】，QIAN880127【283】，LEVM760107【158】\n",
    "selected_indices = [200, 146, 117, 399, 368,459,283, 158]\n",
    "AAindex_data = [AAindex_data[i] for i in selected_indices if i < len(AAindex_data)]\n",
    "# AAindex_list=[ NAKH900113, KRIW710101, HUTJ700103,ZIMJ680103,TANS770104,CEDJ970105, QIAN880127, LEVM760107]\n",
    "\n",
    "part_autocorrelation_train = autocorrelation(sequences, lag, AAindex_data)\n",
    "part_autocorrelation_test = autocorrelation(sequences_test, lag, AAindex_data)\n",
    "len(part_autocorrelation_train),len(part_autocorrelation_test[0])"
   ],
   "metadata": {
    "collapsed": false,
    "ExecuteTime": {
     "end_time": "2024-09-01T05:44:39.468920Z",
     "start_time": "2024-09-01T05:44:39.321662Z"
    }
   },
   "id": "1cd1a7a6ec55e7ac"
  },
  {
   "cell_type": "code",
   "execution_count": 17,
   "outputs": [],
   "source": [
    "import scipy.stats.stats as st\n",
    "\n",
    "\n",
    "def AAcal(seqcont):\n",
    "    v = []\n",
    "    for i in range(len(seqcont)):\n",
    "        vtar = seqcont[i]\n",
    "        vtarv = []\n",
    "        vtar7 = 0\n",
    "        vtar8 = 0\n",
    "        vtar9 = 0\n",
    "        s = pd.Series(vtar)\n",
    "        vtar3 = np.mean(vtar)  # These 4 dimensions are relevant statistical terms\n",
    "        vtar4 = st.kurtosis(vtar)\n",
    "        vtar5 = np.var(vtar)\n",
    "        vtar6 = st.skew(vtar)\n",
    "        #for p in range(len(vtar)): # These 3 dimensions are inspired by PAFIG algorithm\n",
    "        #vtar7=vtar[p]**2+vtar7\n",
    "        #if vtar[p]>va:\n",
    "        #vtar8=vtar[p]**2+vtar8\n",
    "        #else:\n",
    "        #vtar9=vtar[p]**2+vtar9\n",
    "        vcf1 = []\n",
    "        vcf2 = []\n",
    "        for j in range(len(vtar) - 1):  #Sequence-order-correlation terms\n",
    "            vcf1.append((vtar[j] - vtar[j + 1]))\n",
    "        for k in range(len(vtar) - 2):\n",
    "            vcf2.append((vtar[k] - vtar[k + 2]))\n",
    "        vtar10 = np.mean(vcf1)\n",
    "        vtar11 = np.var(vcf1)\n",
    "        vtar11A = st.kurtosis(vcf1)\n",
    "        vtar11B = st.skew(vcf1)\n",
    "        vtar12 = np.mean(vcf2)\n",
    "        vtar13 = np.var(vcf2)\n",
    "        vtar13A = st.kurtosis(vcf2)\n",
    "        vtar13B = st.skew(vcf2)\n",
    "        vtarv.append(vtar3)\n",
    "        vtarv.append(vtar4)\n",
    "        vtarv.append(vtar5)\n",
    "        vtarv.append(vtar6)\n",
    "        #vtarv.append(vtar7/len(vtar))\n",
    "        #vtarv.append(vtar8/len(vtar))\n",
    "        #vtarv.append(vtar9/len(vtar))\n",
    "        vtarv.append(vtar10)\n",
    "        vtarv.append(vtar11)\n",
    "        vtarv.append(vtar11A)\n",
    "        vtarv.append(vtar11B)\n",
    "        vtarv.append(vtar12)\n",
    "        vtarv.append(vtar13)\n",
    "        vtarv.append(vtar13A)\n",
    "        vtarv.append(vtar13B)\n",
    "        v.append(vtarv)\n",
    "    return v\n",
    "\n",
    "AAC_2_train = AAcal(part_autocorrelation_train)\n",
    "AAC_2_test = AAcal(part_autocorrelation_test)"
   ],
   "metadata": {
    "collapsed": false,
    "ExecuteTime": {
     "end_time": "2024-09-01T05:44:40.229822Z",
     "start_time": "2024-09-01T05:44:40.224952Z"
    }
   },
   "id": "78eaa2af46deedbb"
  },
  {
   "cell_type": "code",
   "execution_count": 18,
   "outputs": [
    {
     "data": {
      "text/plain": "(500, 5)"
     },
     "execution_count": 18,
     "metadata": {},
     "output_type": "execute_result"
    }
   ],
   "source": [
    "def calculate_GAAC(protein_list):\n",
    "    # 定义氨基酸分组\n",
    "    groups = {\n",
    "        'G1': 'GAVLMI',  # 脂肪族\n",
    "        'G2': 'FYW',     # 芳香族\n",
    "        'G3': 'KRH',     # 带正电\n",
    "        'G4': 'DE',      # 带负电\n",
    "        'G5': 'STCPNQ'   # 不带电\n",
    "    }\n",
    "\n",
    "    # 初始化结果列表\n",
    "    results = []\n",
    "\n",
    "    # 遍历蛋白质序列\n",
    "    for protein in protein_list:\n",
    "        # 计算每个组的频率\n",
    "        group_counts = {key: 0 for key in groups}\n",
    "        total_length = len(protein)\n",
    "\n",
    "        for aa in protein:\n",
    "            for group_name, group_aa in groups.items():\n",
    "                if aa in group_aa:\n",
    "                    group_counts[group_name] += 1\n",
    "                    break\n",
    "\n",
    "        # 计算频率\n",
    "        group_frequencies = [count / total_length for count in group_counts.values()]\n",
    "        results.append(group_frequencies)\n",
    "\n",
    "    return results\n",
    "\n",
    "# 示例蛋白质序列列表\n",
    "\n",
    "gaac_train = calculate_GAAC(sequences)\n",
    "gaac_test = calculate_GAAC(sequences_test)\n",
    "gaac_train=np.array(gaac_train)\n",
    "gaac_test=np.array(gaac_test)\n",
    "gaac_train.shape"
   ],
   "metadata": {
    "collapsed": false,
    "ExecuteTime": {
     "end_time": "2024-09-01T05:44:40.603209Z",
     "start_time": "2024-09-01T05:44:40.572410Z"
    }
   },
   "id": "2d876b67b2b7bd13"
  },
  {
   "cell_type": "code",
   "execution_count": 22,
   "outputs": [
    {
     "data": {
      "text/plain": "array([0.51351351, 0.05405405, 0.21621622, 0.05405405, 0.16216216])"
     },
     "execution_count": 22,
     "metadata": {},
     "output_type": "execute_result"
    }
   ],
   "source": [
    "gaac_train[0]"
   ],
   "metadata": {
    "collapsed": false,
    "ExecuteTime": {
     "end_time": "2024-09-01T05:46:16.744095Z",
     "start_time": "2024-09-01T05:46:16.695636Z"
    }
   },
   "id": "e30f79cbedd90bb1"
  },
  {
   "cell_type": "code",
   "execution_count": 19,
   "outputs": [],
   "source": [
    "# AAC_2_train\n",
    "train_encodings=np.concatenate((aac_train,gaac_train),axis=1)\n",
    "test_encodings=np.concatenate((aac_test,gaac_test),axis=1)"
   ],
   "metadata": {
    "collapsed": false,
    "ExecuteTime": {
     "end_time": "2024-09-01T05:44:41.228304Z",
     "start_time": "2024-09-01T05:44:41.224513Z"
    }
   },
   "id": "f4a6af1fad965f9c"
  },
  {
   "cell_type": "code",
   "execution_count": 20,
   "outputs": [
    {
     "data": {
      "text/plain": "array([0.13513514, 0.        , 0.02702703, 0.02702703, 0.02702703,\n       0.10810811, 0.        , 0.13513514, 0.18918919, 0.02702703,\n       0.        , 0.02702703, 0.02702703, 0.08108108, 0.02702703,\n       0.        , 0.02702703, 0.10810811, 0.02702703, 0.        ,\n       0.51351351, 0.05405405, 0.21621622, 0.05405405, 0.16216216])"
     },
     "execution_count": 20,
     "metadata": {},
     "output_type": "execute_result"
    }
   ],
   "source": [
    "train_encodings[0]"
   ],
   "metadata": {
    "collapsed": false,
    "ExecuteTime": {
     "end_time": "2024-09-01T05:44:41.867371Z",
     "start_time": "2024-09-01T05:44:41.862374Z"
    }
   },
   "id": "c092378125e4a94d"
  },
  {
   "cell_type": "code",
   "execution_count": 6,
   "outputs": [
    {
     "name": "stderr",
     "output_type": "stream",
     "text": [
      "/home/wangli/anaconda3/envs/transformer-env/lib/python3.7/site-packages/ipykernel_launcher.py:13: UserWarning: To copy construct from a tensor, it is recommended to use sourceTensor.clone().detach() or sourceTensor.clone().detach().requires_grad_(True), rather than torch.tensor(sourceTensor).\n",
      "  del sys.path[0]\n",
      "/home/wangli/anaconda3/envs/transformer-env/lib/python3.7/site-packages/ipykernel_launcher.py:14: UserWarning: To copy construct from a tensor, it is recommended to use sourceTensor.clone().detach() or sourceTensor.clone().detach().requires_grad_(True), rather than torch.tensor(sourceTensor).\n",
      "  \n",
      "/home/wangli/anaconda3/envs/transformer-env/lib/python3.7/site-packages/ipykernel_launcher.py:15: UserWarning: To copy construct from a tensor, it is recommended to use sourceTensor.clone().detach() or sourceTensor.clone().detach().requires_grad_(True), rather than torch.tensor(sourceTensor).\n",
      "  from ipykernel import kernelapp as app\n",
      "/home/wangli/anaconda3/envs/transformer-env/lib/python3.7/site-packages/ipykernel_launcher.py:16: UserWarning: To copy construct from a tensor, it is recommended to use sourceTensor.clone().detach() or sourceTensor.clone().detach().requires_grad_(True), rather than torch.tensor(sourceTensor).\n",
      "  \n"
     ]
    }
   ],
   "source": [
    "from sklearn.utils import shuffle\n",
    "# X_train, y_train = shuffle(train_encodings, y, random_state=42)\n",
    "# X_test, y_test = shuffle(test_encodings, y_test, random_state=42)\n",
    "X_train,X_test,y_train,y_test=train_test_split(train_encodings,y,random_state=42)\n",
    "X_train=np.array(X_train)\n",
    "X_test=np.array(X_test)\n",
    "y_train=np.array(y_train)\n",
    "y_test=np.array(y_test)\n",
    "X_train = torch.tensor(X_train)\n",
    "y_train = torch.tensor(y_train).view(-1, 1)\n",
    "X_test = torch.tensor(X_test)\n",
    "y_test = torch.tensor(y_test).view(-1, 1)\n",
    "X_train = torch.tensor(X_train ,dtype=torch.float32)\n",
    "y_train = torch.tensor(y_train,dtype=torch.float32)\n",
    "X_test = torch.tensor(X_test,dtype=torch.float32)\n",
    "y_test = torch.tensor(y_test,dtype=torch.float32)"
   ],
   "metadata": {
    "collapsed": false,
    "ExecuteTime": {
     "end_time": "2024-09-01T05:35:56.220781Z",
     "start_time": "2024-09-01T05:35:56.187185Z"
    }
   },
   "id": "247fe7479968b106"
  },
  {
   "cell_type": "code",
   "execution_count": 7,
   "outputs": [
    {
     "data": {
      "text/plain": "torch.Size([375, 25])"
     },
     "execution_count": 7,
     "metadata": {},
     "output_type": "execute_result"
    }
   ],
   "source": [
    "dataset = {}\n",
    "dataset = {\n",
    "    'train_input': X_train,\n",
    "    'test_input': X_test,\n",
    "    'train_label': y_train,\n",
    "    'test_label': y_test\n",
    "}\n",
    "X_train.shape"
   ],
   "metadata": {
    "collapsed": false,
    "ExecuteTime": {
     "end_time": "2024-09-01T05:35:56.938813Z",
     "start_time": "2024-09-01T05:35:56.938009Z"
    }
   },
   "id": "23864b8dc441512f"
  },
  {
   "cell_type": "code",
   "execution_count": 8,
   "outputs": [
    {
     "data": {
      "text/plain": "tensor([0.0000, 0.0370, 0.0370, 0.0000, 0.0370, 0.0741, 0.0000, 0.1481, 0.2222,\n        0.1111, 0.0370, 0.0000, 0.0000, 0.0000, 0.1481, 0.0370, 0.0741, 0.0370,\n        0.0000, 0.0000, 0.4074, 0.0370, 0.3704, 0.0370, 0.1481])"
     },
     "execution_count": 8,
     "metadata": {},
     "output_type": "execute_result"
    }
   ],
   "source": [
    "X_train[0]"
   ],
   "metadata": {
    "collapsed": false,
    "ExecuteTime": {
     "end_time": "2024-09-01T05:35:58.156802Z",
     "start_time": "2024-09-01T05:35:58.148813Z"
    }
   },
   "id": "fbfddeec6cca5e2"
  },
  {
   "cell_type": "code",
   "execution_count": 9,
   "outputs": [
    {
     "data": {
      "text/plain": "tensor([[0.],\n        [1.],\n        [0.],\n        [0.],\n        [1.],\n        [0.],\n        [0.],\n        [1.],\n        [1.],\n        [0.],\n        [0.],\n        [0.],\n        [0.],\n        [0.],\n        [1.],\n        [0.],\n        [0.],\n        [1.],\n        [0.],\n        [1.],\n        [1.],\n        [0.],\n        [0.],\n        [1.],\n        [1.],\n        [0.],\n        [0.],\n        [0.],\n        [0.],\n        [1.],\n        [1.],\n        [0.],\n        [0.],\n        [1.],\n        [0.],\n        [0.],\n        [1.],\n        [1.],\n        [0.],\n        [1.],\n        [1.],\n        [0.],\n        [0.],\n        [1.],\n        [0.],\n        [0.],\n        [0.],\n        [1.],\n        [0.],\n        [0.],\n        [0.],\n        [1.],\n        [0.],\n        [0.],\n        [1.],\n        [1.],\n        [0.],\n        [1.],\n        [1.],\n        [1.],\n        [0.],\n        [1.],\n        [0.],\n        [0.],\n        [0.],\n        [1.],\n        [1.],\n        [1.],\n        [1.],\n        [0.],\n        [0.],\n        [0.],\n        [0.],\n        [0.],\n        [1.],\n        [1.],\n        [0.],\n        [0.],\n        [0.],\n        [0.],\n        [0.],\n        [0.],\n        [0.],\n        [1.],\n        [1.],\n        [1.],\n        [0.],\n        [1.],\n        [1.],\n        [1.],\n        [1.],\n        [1.],\n        [0.],\n        [1.],\n        [0.],\n        [1.],\n        [1.],\n        [0.],\n        [0.],\n        [0.],\n        [1.],\n        [0.],\n        [1.],\n        [1.],\n        [0.],\n        [0.],\n        [0.],\n        [1.],\n        [0.],\n        [1.],\n        [1.],\n        [1.],\n        [0.],\n        [0.],\n        [0.],\n        [1.],\n        [0.],\n        [1.],\n        [0.],\n        [1.],\n        [0.],\n        [0.],\n        [0.],\n        [1.],\n        [0.],\n        [1.],\n        [1.],\n        [1.],\n        [0.],\n        [1.],\n        [1.],\n        [0.],\n        [1.],\n        [0.],\n        [1.],\n        [1.],\n        [0.],\n        [1.],\n        [0.],\n        [0.],\n        [0.],\n        [1.],\n        [0.],\n        [1.],\n        [0.],\n        [0.],\n        [0.],\n        [0.],\n        [1.],\n        [1.],\n        [1.],\n        [1.],\n        [1.],\n        [1.],\n        [0.],\n        [1.],\n        [0.],\n        [1.],\n        [0.],\n        [0.],\n        [1.],\n        [1.],\n        [1.],\n        [1.],\n        [1.],\n        [1.],\n        [1.],\n        [1.],\n        [1.],\n        [0.],\n        [0.],\n        [1.],\n        [1.],\n        [1.],\n        [1.],\n        [1.],\n        [0.],\n        [1.],\n        [0.],\n        [0.],\n        [0.],\n        [1.],\n        [0.],\n        [0.],\n        [0.],\n        [1.],\n        [0.],\n        [1.],\n        [1.],\n        [0.],\n        [1.],\n        [1.],\n        [0.],\n        [1.],\n        [1.],\n        [0.],\n        [1.],\n        [0.],\n        [1.],\n        [0.],\n        [1.],\n        [0.],\n        [0.],\n        [0.],\n        [1.],\n        [0.],\n        [0.],\n        [0.],\n        [0.],\n        [0.],\n        [0.],\n        [1.],\n        [1.],\n        [0.],\n        [0.],\n        [0.],\n        [0.],\n        [1.],\n        [1.],\n        [0.],\n        [0.],\n        [1.],\n        [1.],\n        [0.],\n        [1.],\n        [1.],\n        [1.],\n        [0.],\n        [1.],\n        [1.],\n        [0.],\n        [0.],\n        [1.],\n        [0.],\n        [0.],\n        [0.],\n        [1.],\n        [0.],\n        [0.],\n        [0.],\n        [0.],\n        [1.],\n        [1.],\n        [0.],\n        [1.],\n        [0.],\n        [1.],\n        [0.],\n        [1.],\n        [1.],\n        [0.],\n        [1.],\n        [0.],\n        [0.],\n        [0.],\n        [0.],\n        [1.],\n        [0.],\n        [1.],\n        [1.],\n        [0.],\n        [1.],\n        [0.],\n        [0.],\n        [0.],\n        [1.],\n        [1.],\n        [1.],\n        [0.],\n        [1.],\n        [1.],\n        [1.],\n        [1.],\n        [0.],\n        [0.],\n        [0.],\n        [1.],\n        [1.],\n        [1.],\n        [1.],\n        [1.],\n        [1.],\n        [1.],\n        [1.],\n        [0.],\n        [0.],\n        [0.],\n        [0.],\n        [1.],\n        [0.],\n        [1.],\n        [1.],\n        [0.],\n        [0.],\n        [1.],\n        [0.],\n        [1.],\n        [1.],\n        [0.],\n        [1.],\n        [0.],\n        [0.],\n        [0.],\n        [1.],\n        [1.],\n        [1.],\n        [0.],\n        [1.],\n        [1.],\n        [0.],\n        [1.],\n        [1.],\n        [0.],\n        [0.],\n        [1.],\n        [0.],\n        [1.],\n        [1.],\n        [0.],\n        [1.],\n        [1.],\n        [0.],\n        [1.],\n        [1.],\n        [1.],\n        [0.],\n        [0.],\n        [1.],\n        [0.],\n        [1.],\n        [0.],\n        [1.],\n        [0.],\n        [1.],\n        [0.],\n        [0.],\n        [0.],\n        [0.],\n        [1.],\n        [0.],\n        [1.],\n        [0.],\n        [1.],\n        [1.],\n        [0.],\n        [1.],\n        [1.],\n        [0.],\n        [1.],\n        [1.],\n        [1.],\n        [1.],\n        [1.],\n        [1.],\n        [0.],\n        [0.],\n        [0.],\n        [1.],\n        [0.],\n        [1.],\n        [0.],\n        [1.],\n        [1.],\n        [0.],\n        [1.],\n        [0.],\n        [1.],\n        [0.],\n        [0.],\n        [0.],\n        [0.],\n        [1.],\n        [1.],\n        [1.],\n        [0.]])"
     },
     "execution_count": 9,
     "metadata": {},
     "output_type": "execute_result"
    }
   ],
   "source": [
    "y_train"
   ],
   "metadata": {
    "collapsed": false,
    "ExecuteTime": {
     "end_time": "2024-09-01T05:35:58.462018Z",
     "start_time": "2024-09-01T05:35:58.449162Z"
    }
   },
   "id": "402732910950a617"
  },
  {
   "cell_type": "code",
   "execution_count": 10,
   "outputs": [
    {
     "name": "stdout",
     "output_type": "stream",
     "text": [
      "checkpoint directory created: ./model\n",
      "saving model version 0.0\n"
     ]
    },
    {
     "name": "stderr",
     "output_type": "stream",
     "text": [
      "| train_loss: 3.10e-01 | test_loss: 4.91e-01 | reg: 0.00e+00 | :   3%| | 1/30 [00:01<00:36,  1.25s/i"
     ]
    },
    {
     "name": "stdout",
     "output_type": "stream",
     "text": [
      "ACC: 0.8800, AUC: 0.9514, SP: 0.8254, MCC: 0.7650, SN: 0.9355\n",
      "ACC: 0.6720, AUC(test): 0.7538, SP: 0.6066, MCC: 0.3440, SN: 0.7344\n"
     ]
    },
    {
     "name": "stderr",
     "output_type": "stream",
     "text": [
      "| train_loss: 2.26e-01 | test_loss: 5.12e-01 | reg: 0.00e+00 | :   7%| | 2/30 [00:01<00:20,  1.35it/"
     ]
    },
    {
     "name": "stdout",
     "output_type": "stream",
     "text": [
      "ACC: 0.9573, AUC: 0.9932, SP: 0.9418, MCC: 0.9152, SN: 0.9731\n",
      "ACC: 0.7440, AUC(test): 0.7456, SP: 0.7377, MCC: 0.4877, SN: 0.7500\n"
     ]
    },
    {
     "name": "stderr",
     "output_type": "stream",
     "text": [
      "| train_loss: 1.72e-01 | test_loss: 4.92e-01 | reg: 0.00e+00 | :  10%| | 3/30 [00:02<00:16,  1.61it/"
     ]
    },
    {
     "name": "stdout",
     "output_type": "stream",
     "text": [
      "ACC: 0.9867, AUC: 0.9984, SP: 0.9841, MCC: 0.9733, SN: 0.9892\n",
      "ACC: 0.7280, AUC(test): 0.7659, SP: 0.7541, MCC: 0.4575, SN: 0.7031\n"
     ]
    },
    {
     "name": "stderr",
     "output_type": "stream",
     "text": [
      "| train_loss: 1.35e-01 | test_loss: 5.04e-01 | reg: 0.00e+00 | :  13%|▏| 4/30 [00:02<00:14,  1.80it/"
     ]
    },
    {
     "name": "stdout",
     "output_type": "stream",
     "text": [
      "ACC: 0.9947, AUC: 0.9999, SP: 0.9947, MCC: 0.9893, SN: 0.9946\n",
      "ACC: 0.7360, AUC(test): 0.7533, SP: 0.7377, MCC: 0.4720, SN: 0.7344\n"
     ]
    },
    {
     "name": "stderr",
     "output_type": "stream",
     "text": [
      "| train_loss: 1.11e-01 | test_loss: 5.19e-01 | reg: 0.00e+00 | :  17%|▏| 5/30 [00:03<00:13,  1.86it/"
     ]
    },
    {
     "name": "stdout",
     "output_type": "stream",
     "text": [
      "ACC: 1.0000, AUC: 1.0000, SP: 1.0000, MCC: 1.0000, SN: 1.0000\n",
      "ACC: 0.7040, AUC(test): 0.7500, SP: 0.7377, MCC: 0.4101, SN: 0.6719\n"
     ]
    },
    {
     "name": "stderr",
     "output_type": "stream",
     "text": [
      "| train_loss: 2.85e-01 | test_loss: 4.71e-01 | reg: 0.00e+00 | :  20%|▏| 6/30 [00:03<00:13,  1.79it/"
     ]
    },
    {
     "name": "stdout",
     "output_type": "stream",
     "text": [
      "ACC: 0.9067, AUC: 0.9706, SP: 0.8624, MCC: 0.8168, SN: 0.9516\n",
      "ACC: 0.7120, AUC(test): 0.7684, SP: 0.7213, MCC: 0.4243, SN: 0.7031\n"
     ]
    },
    {
     "name": "stderr",
     "output_type": "stream",
     "text": [
      "| train_loss: 2.03e-01 | test_loss: 5.27e-01 | reg: 0.00e+00 | :  23%|▏| 7/30 [00:04<00:12,  1.91it/"
     ]
    },
    {
     "name": "stdout",
     "output_type": "stream",
     "text": [
      "ACC: 0.9787, AUC: 0.9969, SP: 0.9683, MCC: 0.9576, SN: 0.9892\n",
      "ACC: 0.6880, AUC(test): 0.7398, SP: 0.7049, MCC: 0.3768, SN: 0.6719\n"
     ]
    },
    {
     "name": "stderr",
     "output_type": "stream",
     "text": [
      "| train_loss: 1.65e-01 | test_loss: 5.43e-01 | reg: 0.00e+00 | :  27%|▎| 8/30 [00:04<00:11,  1.97it/"
     ]
    },
    {
     "name": "stdout",
     "output_type": "stream",
     "text": [
      "ACC: 0.9840, AUC: 0.9993, SP: 0.9735, MCC: 0.9682, SN: 0.9946\n",
      "ACC: 0.6640, AUC(test): 0.7234, SP: 0.6721, MCC: 0.3283, SN: 0.6562\n"
     ]
    },
    {
     "name": "stderr",
     "output_type": "stream",
     "text": [
      "| train_loss: 1.36e-01 | test_loss: 5.67e-01 | reg: 0.00e+00 | :  30%|▎| 9/30 [00:05<00:10,  1.99it/"
     ]
    },
    {
     "name": "stdout",
     "output_type": "stream",
     "text": [
      "ACC: 0.9920, AUC: 0.9999, SP: 0.9841, MCC: 0.9841, SN: 1.0000\n",
      "ACC: 0.6400, AUC(test): 0.7075, SP: 0.6393, MCC: 0.2799, SN: 0.6406\n"
     ]
    },
    {
     "name": "stderr",
     "output_type": "stream",
     "text": [
      "| train_loss: 1.17e-01 | test_loss: 5.89e-01 | reg: 0.00e+00 | :  33%|▎| 10/30 [00:05<00:09,  2.01it"
     ]
    },
    {
     "name": "stdout",
     "output_type": "stream",
     "text": [
      "ACC: 0.9973, AUC: 1.0000, SP: 0.9947, MCC: 0.9947, SN: 1.0000\n",
      "ACC: 0.6480, AUC(test): 0.6934, SP: 0.6557, MCC: 0.2963, SN: 0.6406\n"
     ]
    },
    {
     "name": "stderr",
     "output_type": "stream",
     "text": [
      "| train_loss: 2.27e-01 | test_loss: 5.07e-01 | reg: 0.00e+00 | :  37%|▎| 11/30 [00:06<00:10,  1.89it"
     ]
    },
    {
     "name": "stdout",
     "output_type": "stream",
     "text": [
      "ACC: 0.9600, AUC: 0.9936, SP: 0.9524, MCC: 0.9201, SN: 0.9677\n",
      "ACC: 0.6880, AUC(test): 0.7579, SP: 0.6557, MCC: 0.3754, SN: 0.7188\n"
     ]
    },
    {
     "name": "stderr",
     "output_type": "stream",
     "text": [
      "| train_loss: 1.67e-01 | test_loss: 5.26e-01 | reg: 0.00e+00 | :  40%|▍| 12/30 [00:06<00:09,  1.99it"
     ]
    },
    {
     "name": "stdout",
     "output_type": "stream",
     "text": [
      "ACC: 0.9893, AUC: 0.9996, SP: 0.9894, MCC: 0.9787, SN: 0.9892\n",
      "ACC: 0.7040, AUC(test): 0.7569, SP: 0.7377, MCC: 0.4101, SN: 0.6719\n"
     ]
    },
    {
     "name": "stderr",
     "output_type": "stream",
     "text": [
      "| train_loss: 1.39e-01 | test_loss: 5.59e-01 | reg: 0.00e+00 | :  43%|▍| 13/30 [00:07<00:08,  1.99it"
     ]
    },
    {
     "name": "stdout",
     "output_type": "stream",
     "text": [
      "ACC: 0.9973, AUC: 0.9999, SP: 0.9947, MCC: 0.9947, SN: 1.0000\n",
      "ACC: 0.6640, AUC(test): 0.7428, SP: 0.7541, MCC: 0.3369, SN: 0.5781\n"
     ]
    },
    {
     "name": "stderr",
     "output_type": "stream",
     "text": [
      "| train_loss: 1.15e-01 | test_loss: 5.87e-01 | reg: 0.00e+00 | :  47%|▍| 14/30 [00:07<00:07,  2.06it"
     ]
    },
    {
     "name": "stdout",
     "output_type": "stream",
     "text": [
      "ACC: 0.9973, AUC: 1.0000, SP: 1.0000, MCC: 0.9947, SN: 0.9946\n",
      "ACC: 0.6160, AUC(test): 0.7106, SP: 0.6885, MCC: 0.2375, SN: 0.5469\n"
     ]
    },
    {
     "name": "stderr",
     "output_type": "stream",
     "text": [
      "| train_loss: 1.01e-01 | test_loss: 5.92e-01 | reg: 0.00e+00 | :  50%|▌| 15/30 [00:07<00:07,  2.14it"
     ]
    },
    {
     "name": "stdout",
     "output_type": "stream",
     "text": [
      "ACC: 1.0000, AUC: 1.0000, SP: 1.0000, MCC: 1.0000, SN: 1.0000\n",
      "ACC: 0.6400, AUC(test): 0.7075, SP: 0.7213, MCC: 0.2871, SN: 0.5625\n"
     ]
    },
    {
     "name": "stderr",
     "output_type": "stream",
     "text": [
      "| train_loss: 2.40e-01 | test_loss: 5.33e-01 | reg: 0.00e+00 | :  53%|▌| 16/30 [00:08<00:06,  2.06it"
     ]
    },
    {
     "name": "stdout",
     "output_type": "stream",
     "text": [
      "ACC: 0.9600, AUC: 0.9899, SP: 0.9577, MCC: 0.9200, SN: 0.9624\n",
      "ACC: 0.7280, AUC(test): 0.7346, SP: 0.7377, MCC: 0.4563, SN: 0.7188\n"
     ]
    },
    {
     "name": "stderr",
     "output_type": "stream",
     "text": [
      "| train_loss: 1.78e-01 | test_loss: 5.23e-01 | reg: 0.00e+00 | :  57%|▌| 17/30 [00:08<00:06,  2.10it"
     ]
    },
    {
     "name": "stdout",
     "output_type": "stream",
     "text": [
      "ACC: 0.9813, AUC: 0.9993, SP: 0.9735, MCC: 0.9628, SN: 0.9892\n",
      "ACC: 0.7120, AUC(test): 0.7561, SP: 0.7213, MCC: 0.4243, SN: 0.7031\n"
     ]
    },
    {
     "name": "stderr",
     "output_type": "stream",
     "text": [
      "| train_loss: 1.42e-01 | test_loss: 5.52e-01 | reg: 0.00e+00 | :  60%|▌| 18/30 [00:09<00:05,  2.02it"
     ]
    },
    {
     "name": "stdout",
     "output_type": "stream",
     "text": [
      "ACC: 0.9947, AUC: 0.9999, SP: 0.9894, MCC: 0.9894, SN: 1.0000\n",
      "ACC: 0.6720, AUC(test): 0.7518, SP: 0.7377, MCC: 0.3495, SN: 0.6094\n"
     ]
    },
    {
     "name": "stderr",
     "output_type": "stream",
     "text": [
      "| train_loss: 1.20e-01 | test_loss: 5.78e-01 | reg: 0.00e+00 | :  63%|▋| 19/30 [00:10<00:05,  2.02it"
     ]
    },
    {
     "name": "stdout",
     "output_type": "stream",
     "text": [
      "ACC: 0.9973, AUC: 1.0000, SP: 0.9947, MCC: 0.9947, SN: 1.0000\n",
      "ACC: 0.6720, AUC(test): 0.7474, SP: 0.7705, MCC: 0.3546, SN: 0.5781\n"
     ]
    },
    {
     "name": "stderr",
     "output_type": "stream",
     "text": [
      "| train_loss: 1.06e-01 | test_loss: 5.77e-01 | reg: 0.00e+00 | :  67%|▋| 20/30 [00:10<00:04,  2.00it"
     ]
    },
    {
     "name": "stdout",
     "output_type": "stream",
     "text": [
      "ACC: 0.9973, AUC: 1.0000, SP: 1.0000, MCC: 0.9947, SN: 0.9946\n",
      "ACC: 0.6640, AUC(test): 0.7387, SP: 0.7541, MCC: 0.3369, SN: 0.5781\n"
     ]
    },
    {
     "name": "stderr",
     "output_type": "stream",
     "text": [
      "| train_loss: 2.26e-01 | test_loss: 5.10e-01 | reg: 0.00e+00 | :  70%|▋| 21/30 [00:11<00:04,  1.97it"
     ]
    },
    {
     "name": "stdout",
     "output_type": "stream",
     "text": [
      "ACC: 0.9680, AUC: 0.9943, SP: 0.9524, MCC: 0.9365, SN: 0.9839\n",
      "ACC: 0.7280, AUC(test): 0.7626, SP: 0.7377, MCC: 0.4563, SN: 0.7188\n"
     ]
    },
    {
     "name": "stderr",
     "output_type": "stream",
     "text": [
      "| train_loss: 1.68e-01 | test_loss: 5.28e-01 | reg: 0.00e+00 | :  73%|▋| 22/30 [00:11<00:04,  1.98it"
     ]
    },
    {
     "name": "stdout",
     "output_type": "stream",
     "text": [
      "ACC: 0.9920, AUC: 0.9995, SP: 0.9894, MCC: 0.9840, SN: 0.9946\n",
      "ACC: 0.7280, AUC(test): 0.7651, SP: 0.7541, MCC: 0.4575, SN: 0.7031\n"
     ]
    },
    {
     "name": "stderr",
     "output_type": "stream",
     "text": [
      "| train_loss: 1.33e-01 | test_loss: 5.69e-01 | reg: 0.00e+00 | :  77%|▊| 23/30 [00:12<00:03,  1.99it"
     ]
    },
    {
     "name": "stdout",
     "output_type": "stream",
     "text": [
      "ACC: 0.9920, AUC: 0.9999, SP: 0.9894, MCC: 0.9840, SN: 0.9946\n",
      "ACC: 0.7040, AUC(test): 0.7643, SP: 0.7705, MCC: 0.4140, SN: 0.6406\n"
     ]
    },
    {
     "name": "stderr",
     "output_type": "stream",
     "text": [
      "| train_loss: 1.15e-01 | test_loss: 5.84e-01 | reg: 0.00e+00 | :  80%|▊| 24/30 [00:12<00:03,  1.99it"
     ]
    },
    {
     "name": "stdout",
     "output_type": "stream",
     "text": [
      "ACC: 0.9973, AUC: 1.0000, SP: 0.9947, MCC: 0.9947, SN: 1.0000\n",
      "ACC: 0.6880, AUC(test): 0.7585, SP: 0.7541, MCC: 0.3817, SN: 0.6250\n"
     ]
    },
    {
     "name": "stderr",
     "output_type": "stream",
     "text": [
      "| train_loss: 1.03e-01 | test_loss: 5.78e-01 | reg: 0.00e+00 | :  83%|▊| 25/30 [00:12<00:02,  2.05it"
     ]
    },
    {
     "name": "stdout",
     "output_type": "stream",
     "text": [
      "ACC: 0.9973, AUC: 1.0000, SP: 0.9947, MCC: 0.9947, SN: 1.0000\n",
      "ACC: 0.6800, AUC(test): 0.7556, SP: 0.7541, MCC: 0.3668, SN: 0.6094\n"
     ]
    },
    {
     "name": "stderr",
     "output_type": "stream",
     "text": [
      "| train_loss: 2.35e-01 | test_loss: 4.99e-01 | reg: 0.00e+00 | :  87%|▊| 26/30 [00:14<00:02,  1.49it"
     ]
    },
    {
     "name": "stdout",
     "output_type": "stream",
     "text": [
      "ACC: 0.9493, AUC: 0.9911, SP: 0.9418, MCC: 0.8988, SN: 0.9570\n",
      "ACC: 0.7280, AUC(test): 0.7672, SP: 0.7541, MCC: 0.4575, SN: 0.7031\n"
     ]
    },
    {
     "name": "stderr",
     "output_type": "stream",
     "text": [
      "| train_loss: 1.82e-01 | test_loss: 5.43e-01 | reg: 0.00e+00 | :  90%|▉| 27/30 [00:14<00:01,  1.64it"
     ]
    },
    {
     "name": "stdout",
     "output_type": "stream",
     "text": [
      "ACC: 0.9893, AUC: 0.9990, SP: 0.9841, MCC: 0.9787, SN: 0.9946\n",
      "ACC: 0.7120, AUC(test): 0.7579, SP: 0.7377, MCC: 0.4254, SN: 0.6875\n"
     ]
    },
    {
     "name": "stderr",
     "output_type": "stream",
     "text": [
      "| train_loss: 1.50e-01 | test_loss: 5.58e-01 | reg: 0.00e+00 | :  93%|▉| 28/30 [00:15<00:01,  1.71it"
     ]
    },
    {
     "name": "stdout",
     "output_type": "stream",
     "text": [
      "ACC: 0.9920, AUC: 0.9998, SP: 0.9894, MCC: 0.9840, SN: 0.9946\n",
      "ACC: 0.7280, AUC(test): 0.7656, SP: 0.7869, MCC: 0.4611, SN: 0.6719\n"
     ]
    },
    {
     "name": "stderr",
     "output_type": "stream",
     "text": [
      "| train_loss: 1.27e-01 | test_loss: 5.96e-01 | reg: 0.00e+00 | :  97%|▉| 29/30 [00:15<00:00,  1.84it"
     ]
    },
    {
     "name": "stdout",
     "output_type": "stream",
     "text": [
      "ACC: 0.9947, AUC: 0.9999, SP: 0.9947, MCC: 0.9893, SN: 0.9946\n",
      "ACC: 0.7200, AUC(test): 0.7623, SP: 0.8033, MCC: 0.4490, SN: 0.6406\n"
     ]
    },
    {
     "name": "stderr",
     "output_type": "stream",
     "text": [
      "| train_loss: 1.14e-01 | test_loss: 6.01e-01 | reg: 4.21e+01 | : 100%|█| 30/30 [00:16<00:00,  1.85it"
     ]
    },
    {
     "name": "stdout",
     "output_type": "stream",
     "text": [
      "ACC: 1.0000, AUC: 1.0000, SP: 1.0000, MCC: 1.0000, SN: 1.0000\n",
      "ACC: 0.7120, AUC(test): 0.7602, SP: 0.7869, MCC: 0.4314, SN: 0.6406\n",
      "saving model version 0.1\n"
     ]
    },
    {
     "name": "stderr",
     "output_type": "stream",
     "text": [
      "\n"
     ]
    }
   ],
   "source": [
    "model = KAN(width=[25,5,1], grid=7, k=9, seed=42)\n",
    "from sklearn.metrics import roc_auc_score, confusion_matrix, matthews_corrcoef\n",
    "def train_acc():\n",
    "    pred=model(X_train)\n",
    "    with torch.no_grad():\n",
    "        pred_labels = (pred > 0.5).float() \n",
    "        auc = roc_auc_score(y_train.cpu(), pred.cpu())\n",
    "\n",
    "    # 混淆矩阵计算\n",
    "        tn, fp, fn, tp = confusion_matrix(y_train.cpu(), pred_labels.cpu()).ravel()\n",
    "\n",
    "        # Specificity (SP)\n",
    "        sp = tn / (tn + fp) if (tn + fp) > 0 else 0\n",
    "        \n",
    "        acc = (tp + tn) / (tp + tn + fp + fn)\n",
    "\n",
    "        # Sensitivity (SN)\n",
    "        sn = tp / (tp + fn) if (tp + fn) > 0 else 0\n",
    "\n",
    "        # Matthews Correlation Coefficient (MCC)\n",
    "        mcc = matthews_corrcoef(y_train.cpu(), pred_labels.cpu())\n",
    "    print(f\"ACC: {acc:.4f}, AUC: {auc:.4f}, SP: {sp:.4f}, MCC: {mcc:.4f}, SN: {sn:.4f}\")\n",
    "    return torch.mean((torch.round(model(X_train)[:, 0]) == y_train[:, 0]).float())\n",
    "\n",
    "def test_acc():\n",
    "    pred=model(X_test)\n",
    "    with torch.no_grad():\n",
    "        pred_labels = (pred > 0.5).float() \n",
    "        auc = roc_auc_score(y_test.cpu(), pred.cpu())\n",
    "\n",
    "    # 混淆矩阵计算\n",
    "        tn, fp, fn, tp = confusion_matrix(y_test.cpu(), pred_labels.cpu()).ravel()\n",
    "\n",
    "        # Specificity (SP)\n",
    "        sp = tn / (tn + fp) if (tn + fp) > 0 else 0\n",
    "        \n",
    "        acc = (tp + tn) / (tp + tn + fp + fn)\n",
    "\n",
    "        # Sensitivity (SN)\n",
    "        sn = tp / (tp + fn) if (tp + fn) > 0 else 0\n",
    "\n",
    "        # Matthews Correlation Coefficient (MCC)\n",
    "        mcc = matthews_corrcoef(y_test.cpu(), pred_labels.cpu())\n",
    "    print(f\"ACC: {acc:.4f}, AUC(test): {auc:.4f}, SP: {sp:.4f}, MCC: {mcc:.4f}, SN: {sn:.4f}\")\n",
    "    return torch.mean((torch.round(model(X_test)[:, 0]) == y_test[:, 0]).float())\n",
    "\n",
    "# results = model.train(dataset, opt=\"LBFGS\", steps=10, metrics=(train_acc, test_acc)) ,lamb=0.001 lamb_entropy=4.,lamb=0.1,lamb_l1=2.5,\n",
    "# lamb=0.005 train/fit\n",
    "results = model.fit(dataset, opt=\"LBFGS\", steps=30, metrics=(train_acc, test_acc));\n",
    "# print(results['train_acc'][-1], results['test_acc'][-1])"
   ],
   "metadata": {
    "collapsed": false,
    "ExecuteTime": {
     "end_time": "2024-09-01T05:36:15.944649Z",
     "start_time": "2024-09-01T05:35:59.667270Z"
    }
   },
   "id": "3fb6ac1e4eb2e376"
  },
  {
   "cell_type": "code",
   "execution_count": null,
   "outputs": [],
   "source": [
    "import numpy as np\n",
    "from sklearn import datasets\n",
    "from sklearn.svm import SVC\n",
    "from sklearn.model_selection import train_test_split\n",
    "from sklearn.metrics import accuracy_score, roc_auc_score, roc_curve\n",
    "\n",
    "model = SVC(kernel='linear', probability=True)  # probability=True为了后续计算AUC\n",
    "X_train,X_test=X_test,X_train\n",
    "y_train,y_test=y_test,y_train\n",
    "# 训练模型\n",
    "model.fit(X_train, y_train)\n",
    "\n",
    "# 预测\n",
    "y_train_pred = model.predict(X_train)\n",
    "y_test_pred = model.predict(X_test)\n",
    "\n",
    "# 计算准确度\n",
    "train_accuracy = accuracy_score(y_train, y_train_pred)\n",
    "test_accuracy = accuracy_score(y_test, y_test_pred)\n",
    "\n",
    "# 计算AUC\n",
    "y_train_prob = model.predict_proba(X_train)[:, 1]\n",
    "y_test_prob = model.predict_proba(X_test)[:, 1]\n",
    "train_auc = roc_auc_score(y_train, y_train_prob)\n",
    "test_auc = roc_auc_score(y_test, y_test_prob)\n",
    "\n",
    "# 输出结果\n",
    "print(f\"Training Accuracy: {train_accuracy:.2f}\")\n",
    "print(f\"Training AUC: {train_auc:.2f}\")\n",
    "print(f\"Test Accuracy: {test_accuracy:.2f}\")\n",
    "print(f\"Test AUC: {test_auc:.2f}\")"
   ],
   "metadata": {
    "collapsed": false
   },
   "id": "51cc773ffee28291"
  }
 ],
 "metadata": {
  "kernelspec": {
   "display_name": "Python 3",
   "language": "python",
   "name": "python3"
  },
  "language_info": {
   "codemirror_mode": {
    "name": "ipython",
    "version": 2
   },
   "file_extension": ".py",
   "mimetype": "text/x-python",
   "name": "python",
   "nbconvert_exporter": "python",
   "pygments_lexer": "ipython2",
   "version": "2.7.6"
  }
 },
 "nbformat": 4,
 "nbformat_minor": 5
}
