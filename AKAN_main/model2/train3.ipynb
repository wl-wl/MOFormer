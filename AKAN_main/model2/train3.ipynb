{
 "cells": [
  {
   "cell_type": "code",
   "execution_count": 196,
   "id": "initial_id",
   "metadata": {
    "collapsed": true,
    "ExecuteTime": {
     "end_time": "2024-07-25T08:31:52.940421Z",
     "start_time": "2024-07-25T08:31:52.935751Z"
    }
   },
   "outputs": [],
   "source": [
    "# from kan2 import * 不可解释\n",
    "#暂时用这个 可解释\n",
    "from kan import KAN\n",
    "from sklearn.model_selection import KFold, cross_val_score, train_test_split\n",
    "import matplotlib.pyplot as plt\n",
    "from sklearn.datasets import make_moons\n",
    "import torch\n",
    "from sklearn.utils import shuffle\n",
    "import random\n",
    "import numpy as np\n",
    "torch.set_default_dtype(torch.float32)"
   ]
  },
  {
   "cell_type": "code",
   "execution_count": 214,
   "outputs": [],
   "source": [
    "protein_feature_train = []\n",
    "\n",
    "# 打开并读取文件\n",
    "with open('/tmp/pycharm_project_763/feature/feature_train/phychem_train.txt', 'r') as file:\n",
    "    # 逐行读取文件内容\n",
    "    for line in file:\n",
    "        if line.startswith('>'):  # 跳过以'>'开头的行（序列标识行）\n",
    "            continue\n",
    "        # 分割行中的每个特征并转换为浮点数\n",
    "        features = [float(x) for x in line.strip().split('\\t')]\n",
    "        # 将特征列表添加到主列表中\n",
    "        protein_feature_train.append(features)\n",
    "# protein_feature_train[:5]   "
   ],
   "metadata": {
    "collapsed": false,
    "ExecuteTime": {
     "end_time": "2024-07-25T08:35:59.058072Z",
     "start_time": "2024-07-25T08:35:59.014108Z"
    }
   },
   "id": "f5d13986aa1c16e1"
  },
  {
   "cell_type": "code",
   "execution_count": 215,
   "outputs": [],
   "source": [
    "protein_feature_test = []\n",
    "\n",
    "# 打开并读取文件\n",
    "with open('/tmp/pycharm_project_763/feature/feature_test/phychem_test.txt', 'r') as file:\n",
    "    # 逐行读取文件内容\n",
    "    for line in file:\n",
    "        if line.startswith('>'):  # 跳过以'>'开头的行（序列标识行）\n",
    "            continue\n",
    "        # 分割行中的每个特征并转换为浮点数\n",
    "        features = [float(x) for x in line.strip().split('\\t')]\n",
    "        # 将特征列表添加到主列表中\n",
    "        protein_feature_test.append(features)"
   ],
   "metadata": {
    "collapsed": false,
    "ExecuteTime": {
     "end_time": "2024-07-25T08:35:59.278043Z",
     "start_time": "2024-07-25T08:35:59.275296Z"
    }
   },
   "id": "5c8164fe921c74c7"
  },
  {
   "cell_type": "code",
   "execution_count": 216,
   "outputs": [],
   "source": [
    "import pandas as pd\n",
    "df = pd.read_csv('/tmp/pycharm_project_763/data/trainCPP.csv')\n",
    "\n",
    "# 提取序列和标签\n",
    "sequences = df['sequence'].tolist()\n",
    "y = df['label'].tolist()\n",
    "\n",
    "df2= pd.read_csv('/tmp/pycharm_project_763/data/testCPP.csv')\n",
    "\n",
    "# 提取序列和标签\n",
    "sequences_test = df2['sequence'].tolist()\n",
    "y_test = df2['label'].tolist()"
   ],
   "metadata": {
    "collapsed": false,
    "ExecuteTime": {
     "end_time": "2024-07-25T08:35:59.587709Z",
     "start_time": "2024-07-25T08:35:59.578103Z"
    }
   },
   "id": "6fe98b5e2812d701"
  },
  {
   "cell_type": "code",
   "execution_count": 217,
   "outputs": [],
   "source": [
    "from sklearn.utils import shuffle\n",
    "X_train, y_train = shuffle(protein_feature_train, y, random_state=42)\n",
    "X_test, y_test = shuffle(protein_feature_test, y_test, random_state=42)\n",
    "# X_train[:5],y_train[:5]"
   ],
   "metadata": {
    "collapsed": false,
    "ExecuteTime": {
     "end_time": "2024-07-25T08:35:59.915987Z",
     "start_time": "2024-07-25T08:35:59.906485Z"
    }
   },
   "id": "e7b4f5ebcfaede9f"
  },
  {
   "cell_type": "code",
   "execution_count": 218,
   "outputs": [],
   "source": [
    "X_train=np.array(X_train)\n",
    "X_test=np.array(X_test)\n",
    "y_train=np.array(y_train)\n",
    "y_test=np.array(y_test)"
   ],
   "metadata": {
    "collapsed": false,
    "ExecuteTime": {
     "end_time": "2024-07-25T08:36:00.151645Z",
     "start_time": "2024-07-25T08:36:00.149412Z"
    }
   },
   "id": "32eae903324b68ab"
  },
  {
   "cell_type": "code",
   "execution_count": 219,
   "outputs": [],
   "source": [
    "\n",
    "# def one_hot_encode(arr):\n",
    "#     # 创建一个形状为(len(arr), 2)的全零数组\n",
    "#     one_hot = np.zeros((arr.size, 2))\n",
    "#     # 对于数组中的每个1，我们设置第二列为1；对于0，则设置第一列为1\n",
    "#     one_hot[np.arange(arr.size), arr] = 1\n",
    "#     return one_hot\n",
    "# \n",
    "# # 应用独热编码\n",
    "# y_test = one_hot_encode(y_test)\n",
    "# y_train = one_hot_encode(y_train)\n",
    "\n",
    "\n",
    "\n",
    "X_train = torch.tensor(X_train)\n",
    "y_train = torch.tensor(y_train).view(-1, 1)\n",
    "X_test = torch.tensor(X_test)\n",
    "y_test = torch.tensor(y_test).view(-1, 1)\n",
    "# X_train = torch.tensor(X_train ,dtype=torch.float32)\n",
    "# y_train = torch.tensor(y_train,dtype=torch.float32)\n",
    "# X_test = torch.tensor(X_test,dtype=torch.float32)\n",
    "# y_test = torch.tensor(y_test,dtype=torch.float32)"
   ],
   "metadata": {
    "collapsed": false,
    "ExecuteTime": {
     "end_time": "2024-07-25T08:36:00.430933Z",
     "start_time": "2024-07-25T08:36:00.386601Z"
    }
   },
   "id": "de929aba912c0933"
  },
  {
   "cell_type": "code",
   "execution_count": 220,
   "outputs": [],
   "source": [
    "# X_train = torch.from_numpy(X_train).to(torch.int32)\n",
    "# y_train = torch.from_numpy(y_train).to(torch.int32)\n",
    "# X_test = torch.from_numpy(X_test).to(torch.int32)\n",
    "# y_test = torch.from_numpy(y_test).to(torch.int32)\n"
   ],
   "metadata": {
    "collapsed": false,
    "ExecuteTime": {
     "end_time": "2024-07-25T08:36:00.652903Z",
     "start_time": "2024-07-25T08:36:00.611624Z"
    }
   },
   "id": "81bce04290b68a6f"
  },
  {
   "cell_type": "code",
   "execution_count": 221,
   "outputs": [],
   "source": [
    "# def remove_all_zero_rows(X, y):\n",
    "#     # 找到不是全零的行的索引\n",
    "#     non_zero_indices = ~(X == 0).all(dim=1)\n",
    "#     # 过滤掉全零的行\n",
    "#     X_filtered = X[non_zero_indices]\n",
    "#     y_filtered = y[non_zero_indices]\n",
    "#     return X_filtered, y_filtered\n",
    "# \n",
    "# # 删除全零行\n",
    "# X_train, y_train = remove_all_zero_rows(X_train, y_train)\n",
    "# X_test, y_test = remove_all_zero_rows(X_test, y_test)"
   ],
   "metadata": {
    "collapsed": false,
    "ExecuteTime": {
     "end_time": "2024-07-25T08:36:01.404330Z",
     "start_time": "2024-07-25T08:36:01.399248Z"
    }
   },
   "id": "992dace9107b1119"
  },
  {
   "cell_type": "code",
   "execution_count": 222,
   "outputs": [],
   "source": [
    "# y_train = y_train.reshape((y_train.shape[0], 1))\n",
    "# y_test = y_test.reshape((y_test.shape[0], 1))\n",
    "\n",
    "dataset={}\n",
    "dataset = {\n",
    "        'train_input': X_train,\n",
    "        'test_input': X_test,\n",
    "        'train_label': y_train,\n",
    "        'test_label': y_test\n",
    "    }"
   ],
   "metadata": {
    "collapsed": false,
    "ExecuteTime": {
     "end_time": "2024-07-25T08:36:01.637214Z",
     "start_time": "2024-07-25T08:36:01.635177Z"
    }
   },
   "id": "834c9d1db946df96"
  },
  {
   "cell_type": "code",
   "execution_count": 223,
   "outputs": [
    {
     "data": {
      "text/plain": "torch.Size([1164, 2])"
     },
     "execution_count": 223,
     "metadata": {},
     "output_type": "execute_result"
    }
   ],
   "source": [
    "dataset['train_label'].shape"
   ],
   "metadata": {
    "collapsed": false,
    "ExecuteTime": {
     "end_time": "2024-07-25T08:36:01.962740Z",
     "start_time": "2024-07-25T08:36:01.948141Z"
    }
   },
   "id": "d916fd164a3e048a"
  },
  {
   "cell_type": "code",
   "execution_count": 224,
   "outputs": [
    {
     "data": {
      "text/plain": "torch.Size([299, 2])"
     },
     "execution_count": 224,
     "metadata": {},
     "output_type": "execute_result"
    }
   ],
   "source": [
    "dataset['test_label'].shape"
   ],
   "metadata": {
    "collapsed": false,
    "ExecuteTime": {
     "end_time": "2024-07-25T08:36:02.292705Z",
     "start_time": "2024-07-25T08:36:02.285644Z"
    }
   },
   "id": "8c2de5019a59fec7"
  },
  {
   "cell_type": "code",
   "execution_count": 225,
   "outputs": [
    {
     "name": "stdout",
     "output_type": "stream",
     "text": [
      "checkpoint directory created: ./model\n",
      "saving model version 0.0\n"
     ]
    }
   ],
   "source": [
    "#如果明确是二分类问题且模型不需要扩展，使用一个神经元的设计更为简单和高效。\n",
    "#如果可能会扩展为多分类问题或在某些实现中softmax更稳定，则可以使用两个神经元的设计。\n",
    "model = KAN(width=[24,5,1], grid=3, k=2, seed=42)  #对应导入kan 可以进行剪zhi和一系列操作\n",
    "# grid=5,k=3\n",
    "# model = KAN(width=[24,5,2], grid=3, k=2, seed=42)  对应导入kan2 似乎准确率更高 过拟合更好一点\n",
    "# model = model.to(torch.float32)"
   ],
   "metadata": {
    "collapsed": false,
    "ExecuteTime": {
     "end_time": "2024-07-25T08:36:02.781917Z",
     "start_time": "2024-07-25T08:36:02.779242Z"
    }
   },
   "id": "e6ec2c20d332eb79"
  },
  {
   "cell_type": "code",
   "execution_count": 227,
   "outputs": [
    {
     "name": "stderr",
     "output_type": "stream",
     "text": [
      "| train_loss: 3.77e-01 | test_loss: 4.36e-01 | reg: 0.00e+00 | : 100%|█| 5/5 [00:02<00:00,  2.19it/s"
     ]
    },
    {
     "name": "stdout",
     "output_type": "stream",
     "text": [
      "saving model version 0.1\n",
      "0.7860824465751648 0.692307710647583\n"
     ]
    },
    {
     "name": "stderr",
     "output_type": "stream",
     "text": [
      "\n"
     ]
    }
   ],
   "source": [
    "from sklearn.metrics import roc_auc_score, confusion_matrix, matthews_corrcoef\n",
    "def train_acc():\n",
    "    # pred=model(X_train)\n",
    "    # with torch.no_grad():\n",
    "    #     pred_labels = (pred > 0.5).float() \n",
    "    #     auc = roc_auc_score(y_train.cpu(), pred.cpu())\n",
    "    # \n",
    "    # # 混淆矩阵计算\n",
    "    #     tn, fp, fn, tp = confusion_matrix(y_train.cpu(), pred_labels.cpu()).ravel()\n",
    "    # \n",
    "    #     # Specificity (SP)\n",
    "    #     sp = tn / (tn + fp) if (tn + fp) > 0 else 0\n",
    "    # \n",
    "    #     # Sensitivity (SN)\n",
    "    #     sn = tp / (tp + fn) if (tp + fn) > 0 else 0\n",
    "    # \n",
    "    #     # Matthews Correlation Coefficient (MCC)\n",
    "    #     mcc = matthews_corrcoef(y_train.cpu(), pred_labels.cpu())\n",
    "    # print(f\"AUC: {auc:.4f}, SP: {sp:.4f}, MCC: {mcc:.4f}, SN: {sn:.4f}\")\n",
    "    return torch.mean((torch.round(model(X_train)[:, 0]) == y_train[:, 0]).float())\n",
    "\n",
    "def test_acc():\n",
    "    return torch.mean((torch.round(model(X_test)[:, 0]) == y_test[:, 0]).float())\n",
    "\n",
    "# results = model.train(dataset, opt=\"LBFGS\", steps=10, metrics=(train_acc, test_acc)) ,lamb=0.001 lamb_entropy=4.,lamb=0.1,lamb_l1=2.5,\n",
    "# lamb=0.005 train/fit\n",
    "results = model.fit(dataset, opt=\"LBFGS\", steps=5, metrics=(train_acc, test_acc));\n",
    "print(results['train_acc'][-1], results['test_acc'][-1])"
   ],
   "metadata": {
    "collapsed": false,
    "ExecuteTime": {
     "end_time": "2024-07-25T08:36:21.233597Z",
     "start_time": "2024-07-25T08:36:18.757100Z"
    }
   },
   "id": "98d82e9c9c13af54"
  },
  {
   "cell_type": "code",
   "execution_count": 230,
   "outputs": [
    {
     "name": "stdout",
     "output_type": "stream",
     "text": [
      "cannot plot since data are not saved. Set save_act=True first.\n"
     ]
    },
    {
     "ename": "IndexError",
     "evalue": "list index out of range",
     "output_type": "error",
     "traceback": [
      "\u001B[0;31m---------------------------------------------------------------------------\u001B[0m",
      "\u001B[0;31mIndexError\u001B[0m                                Traceback (most recent call last)",
      "\u001B[0;32m/tmp/ipykernel_1407035/4074944583.py\u001B[0m in \u001B[0;36m<module>\u001B[0;34m\u001B[0m\n\u001B[0;32m----> 1\u001B[0;31m \u001B[0mmodel\u001B[0m\u001B[0;34m.\u001B[0m\u001B[0mplot\u001B[0m\u001B[0;34m(\u001B[0m\u001B[0;34m)\u001B[0m\u001B[0;34m\u001B[0m\u001B[0;34m\u001B[0m\u001B[0m\n\u001B[0m",
      "\u001B[0;32m/tmp/pycharm_project_763/kan/MultKAN.py\u001B[0m in \u001B[0;36mplot\u001B[0;34m(self, folder, beta, mask, metric, scale, tick, sample, in_vars, out_vars, title, varscale)\u001B[0m\n\u001B[1;32m    535\u001B[0m \u001B[0;34m\u001B[0m\u001B[0m\n\u001B[1;32m    536\u001B[0m         \u001B[0;32mif\u001B[0m \u001B[0mmetric\u001B[0m \u001B[0;34m==\u001B[0m \u001B[0;34m'fa'\u001B[0m\u001B[0;34m:\u001B[0m\u001B[0;34m\u001B[0m\u001B[0;34m\u001B[0m\u001B[0m\n\u001B[0;32m--> 537\u001B[0;31m             \u001B[0mself\u001B[0m\u001B[0;34m.\u001B[0m\u001B[0mattribute\u001B[0m\u001B[0;34m(\u001B[0m\u001B[0;34m)\u001B[0m\u001B[0;34m\u001B[0m\u001B[0;34m\u001B[0m\u001B[0m\n\u001B[0m\u001B[1;32m    538\u001B[0m \u001B[0;34m\u001B[0m\u001B[0m\n\u001B[1;32m    539\u001B[0m         \u001B[0;32mif\u001B[0m \u001B[0;32mnot\u001B[0m \u001B[0mos\u001B[0m\u001B[0;34m.\u001B[0m\u001B[0mpath\u001B[0m\u001B[0;34m.\u001B[0m\u001B[0mexists\u001B[0m\u001B[0;34m(\u001B[0m\u001B[0mfolder\u001B[0m\u001B[0;34m)\u001B[0m\u001B[0;34m:\u001B[0m\u001B[0;34m\u001B[0m\u001B[0;34m\u001B[0m\u001B[0m\n",
      "\u001B[0;32m/tmp/pycharm_project_763/kan/MultKAN.py\u001B[0m in \u001B[0;36mattribute\u001B[0;34m(self)\u001B[0m\n\u001B[1;32m   1223\u001B[0m             \u001B[0msubnode_scores\u001B[0m\u001B[0;34m.\u001B[0m\u001B[0mappend\u001B[0m\u001B[0;34m(\u001B[0m\u001B[0msubnode_score\u001B[0m\u001B[0;34m.\u001B[0m\u001B[0mdetach\u001B[0m\u001B[0;34m(\u001B[0m\u001B[0;34m)\u001B[0m\u001B[0;34m)\u001B[0m\u001B[0;34m\u001B[0m\u001B[0;34m\u001B[0m\u001B[0m\n\u001B[1;32m   1224\u001B[0m             \u001B[0;31m# subnode to edge\u001B[0m\u001B[0;34m\u001B[0m\u001B[0;34m\u001B[0m\u001B[0;34m\u001B[0m\u001B[0m\n\u001B[0;32m-> 1225\u001B[0;31m             \u001B[0medge_score\u001B[0m \u001B[0;34m=\u001B[0m \u001B[0mtorch\u001B[0m\u001B[0;34m.\u001B[0m\u001B[0meinsum\u001B[0m\u001B[0;34m(\u001B[0m\u001B[0;34m'ij,i->ij'\u001B[0m\u001B[0;34m,\u001B[0m \u001B[0mself\u001B[0m\u001B[0;34m.\u001B[0m\u001B[0medge_actscale\u001B[0m\u001B[0;34m[\u001B[0m\u001B[0ml\u001B[0m\u001B[0;34m-\u001B[0m\u001B[0;36m1\u001B[0m\u001B[0;34m]\u001B[0m\u001B[0;34m,\u001B[0m \u001B[0msubnode_score\u001B[0m\u001B[0;34m/\u001B[0m\u001B[0;34m(\u001B[0m\u001B[0mself\u001B[0m\u001B[0;34m.\u001B[0m\u001B[0msubnode_actscale\u001B[0m\u001B[0;34m[\u001B[0m\u001B[0ml\u001B[0m\u001B[0;34m-\u001B[0m\u001B[0;36m1\u001B[0m\u001B[0;34m]\u001B[0m\u001B[0;34m+\u001B[0m\u001B[0;36m1e-4\u001B[0m\u001B[0;34m)\u001B[0m\u001B[0;34m)\u001B[0m\u001B[0;34m\u001B[0m\u001B[0;34m\u001B[0m\u001B[0m\n\u001B[0m\u001B[1;32m   1226\u001B[0m             \u001B[0medge_scores\u001B[0m\u001B[0;34m.\u001B[0m\u001B[0mappend\u001B[0m\u001B[0;34m(\u001B[0m\u001B[0medge_score\u001B[0m\u001B[0;34m.\u001B[0m\u001B[0mdetach\u001B[0m\u001B[0;34m(\u001B[0m\u001B[0;34m)\u001B[0m\u001B[0;34m)\u001B[0m\u001B[0;34m\u001B[0m\u001B[0;34m\u001B[0m\u001B[0m\n\u001B[1;32m   1227\u001B[0m \u001B[0;34m\u001B[0m\u001B[0m\n",
      "\u001B[0;31mIndexError\u001B[0m: list index out of range"
     ]
    }
   ],
   "source": [
    "model.plot()"
   ],
   "metadata": {
    "collapsed": false,
    "ExecuteTime": {
     "end_time": "2024-07-25T08:36:58.136546Z",
     "start_time": "2024-07-25T08:36:58.094907Z"
    }
   },
   "id": "f9cbc25107e2a63a"
  },
  {
   "cell_type": "code",
   "execution_count": 231,
   "outputs": [
    {
     "ename": "IndexError",
     "evalue": "list index out of range",
     "output_type": "error",
     "traceback": [
      "\u001B[0;31m---------------------------------------------------------------------------\u001B[0m",
      "\u001B[0;31mIndexError\u001B[0m                                Traceback (most recent call last)",
      "\u001B[0;32m/tmp/ipykernel_1407035/2577137252.py\u001B[0m in \u001B[0;36m<module>\u001B[0;34m\u001B[0m\n\u001B[0;32m----> 1\u001B[0;31m \u001B[0mmodel\u001B[0m\u001B[0;34m=\u001B[0m\u001B[0mmodel\u001B[0m\u001B[0;34m.\u001B[0m\u001B[0mprune\u001B[0m\u001B[0;34m(\u001B[0m\u001B[0;34m)\u001B[0m\u001B[0;34m\u001B[0m\u001B[0;34m\u001B[0m\u001B[0m\n\u001B[0m\u001B[1;32m      2\u001B[0m \u001B[0mmodel\u001B[0m\u001B[0;34m.\u001B[0m\u001B[0mplot\u001B[0m\u001B[0;34m(\u001B[0m\u001B[0;34m)\u001B[0m\u001B[0;34m\u001B[0m\u001B[0;34m\u001B[0m\u001B[0m\n\u001B[1;32m      3\u001B[0m \u001B[0;31m#kan2报错 kan没问题\u001B[0m\u001B[0;34m\u001B[0m\u001B[0;34m\u001B[0m\u001B[0;34m\u001B[0m\u001B[0m\n",
      "\u001B[0;32m/tmp/pycharm_project_763/kan/MultKAN.py\u001B[0m in \u001B[0;36mprune\u001B[0;34m(self, node_th, edge_th)\u001B[0m\n\u001B[1;32m   1120\u001B[0m         \u001B[0mself\u001B[0m \u001B[0;34m=\u001B[0m \u001B[0mself\u001B[0m\u001B[0;34m.\u001B[0m\u001B[0mprune_node\u001B[0m\u001B[0;34m(\u001B[0m\u001B[0mnode_th\u001B[0m\u001B[0;34m,\u001B[0m \u001B[0mlog_history\u001B[0m\u001B[0;34m=\u001B[0m\u001B[0;32mFalse\u001B[0m\u001B[0;34m)\u001B[0m\u001B[0;34m\u001B[0m\u001B[0;34m\u001B[0m\u001B[0m\n\u001B[1;32m   1121\u001B[0m         \u001B[0;31m#self.prune_node(node_th, log_history=False)\u001B[0m\u001B[0;34m\u001B[0m\u001B[0;34m\u001B[0m\u001B[0;34m\u001B[0m\u001B[0m\n\u001B[0;32m-> 1122\u001B[0;31m         \u001B[0mself\u001B[0m\u001B[0;34m.\u001B[0m\u001B[0mforward\u001B[0m\u001B[0;34m(\u001B[0m\u001B[0mself\u001B[0m\u001B[0;34m.\u001B[0m\u001B[0mcache_data\u001B[0m\u001B[0;34m)\u001B[0m\u001B[0;34m\u001B[0m\u001B[0;34m\u001B[0m\u001B[0m\n\u001B[0m\u001B[1;32m   1123\u001B[0m         \u001B[0mself\u001B[0m\u001B[0;34m.\u001B[0m\u001B[0mattribute\u001B[0m\u001B[0;34m(\u001B[0m\u001B[0;34m)\u001B[0m\u001B[0;34m\u001B[0m\u001B[0;34m\u001B[0m\u001B[0m\n\u001B[1;32m   1124\u001B[0m         \u001B[0mself\u001B[0m\u001B[0;34m.\u001B[0m\u001B[0mprune_edge\u001B[0m\u001B[0;34m(\u001B[0m\u001B[0medge_th\u001B[0m\u001B[0;34m,\u001B[0m \u001B[0mlog_history\u001B[0m\u001B[0;34m=\u001B[0m\u001B[0;32mFalse\u001B[0m\u001B[0;34m)\u001B[0m\u001B[0;34m\u001B[0m\u001B[0;34m\u001B[0m\u001B[0m\n",
      "\u001B[0;32m/tmp/pycharm_project_763/kan/MultKAN.py\u001B[0m in \u001B[0;36mforward\u001B[0;34m(self, x, singularity_avoiding, y_th)\u001B[0m\n\u001B[1;32m    424\u001B[0m \u001B[0;34m\u001B[0m\u001B[0m\n\u001B[1;32m    425\u001B[0m             \u001B[0;31m# multiplication\u001B[0m\u001B[0;34m\u001B[0m\u001B[0;34m\u001B[0m\u001B[0;34m\u001B[0m\u001B[0m\n\u001B[0;32m--> 426\u001B[0;31m             \u001B[0mdim_sum\u001B[0m \u001B[0;34m=\u001B[0m \u001B[0mself\u001B[0m\u001B[0;34m.\u001B[0m\u001B[0mwidth\u001B[0m\u001B[0;34m[\u001B[0m\u001B[0ml\u001B[0m\u001B[0;34m+\u001B[0m\u001B[0;36m1\u001B[0m\u001B[0;34m]\u001B[0m\u001B[0;34m[\u001B[0m\u001B[0;36m0\u001B[0m\u001B[0;34m]\u001B[0m\u001B[0;34m\u001B[0m\u001B[0;34m\u001B[0m\u001B[0m\n\u001B[0m\u001B[1;32m    427\u001B[0m             \u001B[0mdim_mult\u001B[0m \u001B[0;34m=\u001B[0m \u001B[0mself\u001B[0m\u001B[0;34m.\u001B[0m\u001B[0mwidth\u001B[0m\u001B[0;34m[\u001B[0m\u001B[0ml\u001B[0m\u001B[0;34m+\u001B[0m\u001B[0;36m1\u001B[0m\u001B[0;34m]\u001B[0m\u001B[0;34m[\u001B[0m\u001B[0;36m1\u001B[0m\u001B[0;34m]\u001B[0m\u001B[0;34m\u001B[0m\u001B[0;34m\u001B[0m\u001B[0m\n\u001B[1;32m    428\u001B[0m \u001B[0;34m\u001B[0m\u001B[0m\n",
      "\u001B[0;31mIndexError\u001B[0m: list index out of range"
     ]
    }
   ],
   "source": [
    "model=model.prune()\n",
    "model.plot()\n",
    "#kan2报错 kan没问题"
   ],
   "metadata": {
    "collapsed": false,
    "ExecuteTime": {
     "end_time": "2024-07-25T08:37:05.674580Z",
     "start_time": "2024-07-25T08:37:05.578838Z"
    }
   },
   "id": "17d25ae93d020edf"
  },
  {
   "cell_type": "code",
   "execution_count": null,
   "outputs": [],
   "source": [
    "results =model.fit(dataset, opt=\"LBFGS\", steps=5, metrics=(train_acc, test_acc));"
   ],
   "metadata": {
    "collapsed": false,
    "ExecuteTime": {
     "start_time": "2024-07-25T07:46:20.963008Z"
    }
   },
   "id": "21ab9cd8295ea9da"
  },
  {
   "cell_type": "code",
   "execution_count": null,
   "outputs": [],
   "source": [
    "print(results['train_acc'][-1], results['test_acc'][-1])"
   ],
   "metadata": {
    "collapsed": false,
    "ExecuteTime": {
     "start_time": "2024-07-25T07:46:20.964485Z"
    }
   },
   "id": "731eb83b05231d62"
  },
  {
   "cell_type": "code",
   "execution_count": null,
   "outputs": [],
   "source": [
    "model = model.refine(10)"
   ],
   "metadata": {
    "collapsed": false,
    "ExecuteTime": {
     "start_time": "2024-07-25T07:46:21.013862Z"
    }
   },
   "id": "896c599f3be5d1a9"
  },
  {
   "cell_type": "code",
   "execution_count": null,
   "outputs": [],
   "source": [
    "model.plot()"
   ],
   "metadata": {
    "collapsed": false,
    "ExecuteTime": {
     "start_time": "2024-07-25T07:46:21.013947Z"
    }
   },
   "id": "bab97a3907cdd81"
  },
  {
   "cell_type": "code",
   "execution_count": null,
   "outputs": [],
   "source": [
    "results =model.fit(dataset, opt=\"LBFGS\", steps=5, metrics=(train_acc, test_acc));"
   ],
   "metadata": {
    "collapsed": false,
    "ExecuteTime": {
     "start_time": "2024-07-25T07:46:21.013997Z"
    }
   },
   "id": "e5391826351dbcb4"
  },
  {
   "cell_type": "code",
   "execution_count": null,
   "outputs": [],
   "source": [
    "print(results['train_acc'][-1], results['test_acc'][-1])"
   ],
   "metadata": {
    "collapsed": false,
    "ExecuteTime": {
     "start_time": "2024-07-25T07:46:21.014041Z"
    }
   },
   "id": "373cc1adf3f1056e"
  },
  {
   "cell_type": "code",
   "execution_count": null,
   "outputs": [],
   "source": [
    "model.plot()"
   ],
   "metadata": {
    "collapsed": false,
    "ExecuteTime": {
     "start_time": "2024-07-25T07:46:21.014069Z"
    }
   },
   "id": "708643ad195529ea"
  },
  {
   "cell_type": "code",
   "execution_count": 109,
   "outputs": [
    {
     "ename": "AttributeError",
     "evalue": "'KAN' object has no attribute 'acts'",
     "output_type": "error",
     "traceback": [
      "\u001B[0;31m---------------------------------------------------------------------------\u001B[0m",
      "\u001B[0;31mAttributeError\u001B[0m                            Traceback (most recent call last)",
      "\u001B[0;32m/tmp/ipykernel_1407035/296843107.py\u001B[0m in \u001B[0;36m<module>\u001B[0;34m\u001B[0m\n\u001B[1;32m     16\u001B[0m     \u001B[0;31m# automatic mode\u001B[0m\u001B[0;34m\u001B[0m\u001B[0;34m\u001B[0m\u001B[0;34m\u001B[0m\u001B[0m\n\u001B[1;32m     17\u001B[0m     \u001B[0mlib\u001B[0m \u001B[0;34m=\u001B[0m \u001B[0;34m[\u001B[0m\u001B[0;34m'x'\u001B[0m\u001B[0;34m,\u001B[0m\u001B[0;34m'x^2'\u001B[0m\u001B[0;34m,\u001B[0m\u001B[0;34m'x^3'\u001B[0m\u001B[0;34m,\u001B[0m\u001B[0;34m'x^4'\u001B[0m\u001B[0;34m,\u001B[0m\u001B[0;34m'exp'\u001B[0m\u001B[0;34m,\u001B[0m\u001B[0;34m'log'\u001B[0m\u001B[0;34m,\u001B[0m\u001B[0;34m'sqrt'\u001B[0m\u001B[0;34m,\u001B[0m\u001B[0;34m'tanh'\u001B[0m\u001B[0;34m,\u001B[0m\u001B[0;34m'sin'\u001B[0m\u001B[0;34m,\u001B[0m\u001B[0;34m'abs'\u001B[0m\u001B[0;34m]\u001B[0m\u001B[0;34m\u001B[0m\u001B[0;34m\u001B[0m\u001B[0m\n\u001B[0;32m---> 18\u001B[0;31m     \u001B[0mmodel\u001B[0m\u001B[0;34m.\u001B[0m\u001B[0mauto_symbolic\u001B[0m\u001B[0;34m(\u001B[0m\u001B[0mlib\u001B[0m\u001B[0;34m=\u001B[0m\u001B[0mlib\u001B[0m\u001B[0;34m)\u001B[0m\u001B[0;34m\u001B[0m\u001B[0;34m\u001B[0m\u001B[0m\n\u001B[0m",
      "\u001B[0;32m/tmp/pycharm_project_763/kan2/KAN.py\u001B[0m in \u001B[0;36mauto_symbolic\u001B[0;34m(self, a_range, b_range, lib, verbose)\u001B[0m\n\u001B[1;32m   1154\u001B[0m                         \u001B[0mprint\u001B[0m\u001B[0;34m(\u001B[0m\u001B[0;34mf'skipping ({l},{i},{j}) since already symbolic'\u001B[0m\u001B[0;34m)\u001B[0m\u001B[0;34m\u001B[0m\u001B[0;34m\u001B[0m\u001B[0m\n\u001B[1;32m   1155\u001B[0m                     \u001B[0;32melse\u001B[0m\u001B[0;34m:\u001B[0m\u001B[0;34m\u001B[0m\u001B[0;34m\u001B[0m\u001B[0m\n\u001B[0;32m-> 1156\u001B[0;31m                         \u001B[0mname\u001B[0m\u001B[0;34m,\u001B[0m \u001B[0mfun\u001B[0m\u001B[0;34m,\u001B[0m \u001B[0mr2\u001B[0m \u001B[0;34m=\u001B[0m \u001B[0mself\u001B[0m\u001B[0;34m.\u001B[0m\u001B[0msuggest_symbolic\u001B[0m\u001B[0;34m(\u001B[0m\u001B[0ml\u001B[0m\u001B[0;34m,\u001B[0m \u001B[0mi\u001B[0m\u001B[0;34m,\u001B[0m \u001B[0mj\u001B[0m\u001B[0;34m,\u001B[0m \u001B[0ma_range\u001B[0m\u001B[0;34m=\u001B[0m\u001B[0ma_range\u001B[0m\u001B[0;34m,\u001B[0m \u001B[0mb_range\u001B[0m\u001B[0;34m=\u001B[0m\u001B[0mb_range\u001B[0m\u001B[0;34m,\u001B[0m \u001B[0mlib\u001B[0m\u001B[0;34m=\u001B[0m\u001B[0mlib\u001B[0m\u001B[0;34m,\u001B[0m \u001B[0mverbose\u001B[0m\u001B[0;34m=\u001B[0m\u001B[0;32mFalse\u001B[0m\u001B[0;34m)\u001B[0m\u001B[0;34m\u001B[0m\u001B[0;34m\u001B[0m\u001B[0m\n\u001B[0m\u001B[1;32m   1157\u001B[0m                         \u001B[0mself\u001B[0m\u001B[0;34m.\u001B[0m\u001B[0mfix_symbolic\u001B[0m\u001B[0;34m(\u001B[0m\u001B[0ml\u001B[0m\u001B[0;34m,\u001B[0m \u001B[0mi\u001B[0m\u001B[0;34m,\u001B[0m \u001B[0mj\u001B[0m\u001B[0;34m,\u001B[0m \u001B[0mname\u001B[0m\u001B[0;34m,\u001B[0m \u001B[0mverbose\u001B[0m\u001B[0;34m=\u001B[0m\u001B[0mverbose\u001B[0m \u001B[0;34m>\u001B[0m \u001B[0;36m1\u001B[0m\u001B[0;34m)\u001B[0m\u001B[0;34m\u001B[0m\u001B[0;34m\u001B[0m\u001B[0m\n\u001B[1;32m   1158\u001B[0m                         \u001B[0;32mif\u001B[0m \u001B[0mverbose\u001B[0m \u001B[0;34m>=\u001B[0m \u001B[0;36m1\u001B[0m\u001B[0;34m:\u001B[0m\u001B[0;34m\u001B[0m\u001B[0;34m\u001B[0m\u001B[0m\n",
      "\u001B[0;32m/tmp/pycharm_project_763/kan2/KAN.py\u001B[0m in \u001B[0;36msuggest_symbolic\u001B[0;34m(self, l, i, j, a_range, b_range, lib, topk, verbose)\u001B[0m\n\u001B[1;32m   1085\u001B[0m \u001B[0;34m\u001B[0m\u001B[0m\n\u001B[1;32m   1086\u001B[0m         \u001B[0;32mfor\u001B[0m \u001B[0;34m(\u001B[0m\u001B[0mname\u001B[0m\u001B[0;34m,\u001B[0m \u001B[0mfun\u001B[0m\u001B[0;34m)\u001B[0m \u001B[0;32min\u001B[0m \u001B[0msymbolic_lib\u001B[0m\u001B[0;34m.\u001B[0m\u001B[0mitems\u001B[0m\u001B[0;34m(\u001B[0m\u001B[0;34m)\u001B[0m\u001B[0;34m:\u001B[0m\u001B[0;34m\u001B[0m\u001B[0;34m\u001B[0m\u001B[0m\n\u001B[0;32m-> 1087\u001B[0;31m             \u001B[0mr2\u001B[0m \u001B[0;34m=\u001B[0m \u001B[0mself\u001B[0m\u001B[0;34m.\u001B[0m\u001B[0mfix_symbolic\u001B[0m\u001B[0;34m(\u001B[0m\u001B[0ml\u001B[0m\u001B[0;34m,\u001B[0m \u001B[0mi\u001B[0m\u001B[0;34m,\u001B[0m \u001B[0mj\u001B[0m\u001B[0;34m,\u001B[0m \u001B[0mname\u001B[0m\u001B[0;34m,\u001B[0m \u001B[0ma_range\u001B[0m\u001B[0;34m=\u001B[0m\u001B[0ma_range\u001B[0m\u001B[0;34m,\u001B[0m \u001B[0mb_range\u001B[0m\u001B[0;34m=\u001B[0m\u001B[0mb_range\u001B[0m\u001B[0;34m,\u001B[0m \u001B[0mverbose\u001B[0m\u001B[0;34m=\u001B[0m\u001B[0;32mFalse\u001B[0m\u001B[0;34m)\u001B[0m\u001B[0;34m\u001B[0m\u001B[0;34m\u001B[0m\u001B[0m\n\u001B[0m\u001B[1;32m   1088\u001B[0m             \u001B[0mr2s\u001B[0m\u001B[0;34m.\u001B[0m\u001B[0mappend\u001B[0m\u001B[0;34m(\u001B[0m\u001B[0mr2\u001B[0m\u001B[0;34m.\u001B[0m\u001B[0mitem\u001B[0m\u001B[0;34m(\u001B[0m\u001B[0;34m)\u001B[0m\u001B[0;34m)\u001B[0m\u001B[0;34m\u001B[0m\u001B[0;34m\u001B[0m\u001B[0m\n\u001B[1;32m   1089\u001B[0m \u001B[0;34m\u001B[0m\u001B[0m\n",
      "\u001B[0;32m/tmp/pycharm_project_763/kan2/KAN.py\u001B[0m in \u001B[0;36mfix_symbolic\u001B[0;34m(self, l, i, j, fun_name, fit_params_bool, a_range, b_range, verbose, random)\u001B[0m\n\u001B[1;32m    437\u001B[0m             \u001B[0;32mreturn\u001B[0m \u001B[0;32mNone\u001B[0m\u001B[0;34m\u001B[0m\u001B[0;34m\u001B[0m\u001B[0m\n\u001B[1;32m    438\u001B[0m         \u001B[0;32melse\u001B[0m\u001B[0;34m:\u001B[0m\u001B[0;34m\u001B[0m\u001B[0;34m\u001B[0m\u001B[0m\n\u001B[0;32m--> 439\u001B[0;31m             \u001B[0mx\u001B[0m \u001B[0;34m=\u001B[0m \u001B[0mself\u001B[0m\u001B[0;34m.\u001B[0m\u001B[0macts\u001B[0m\u001B[0;34m[\u001B[0m\u001B[0ml\u001B[0m\u001B[0;34m]\u001B[0m\u001B[0;34m[\u001B[0m\u001B[0;34m:\u001B[0m\u001B[0;34m,\u001B[0m \u001B[0mi\u001B[0m\u001B[0;34m]\u001B[0m\u001B[0;34m\u001B[0m\u001B[0;34m\u001B[0m\u001B[0m\n\u001B[0m\u001B[1;32m    440\u001B[0m             \u001B[0my\u001B[0m \u001B[0;34m=\u001B[0m \u001B[0mself\u001B[0m\u001B[0;34m.\u001B[0m\u001B[0mspline_postacts\u001B[0m\u001B[0;34m[\u001B[0m\u001B[0ml\u001B[0m\u001B[0;34m]\u001B[0m\u001B[0;34m[\u001B[0m\u001B[0;34m:\u001B[0m\u001B[0;34m,\u001B[0m \u001B[0mj\u001B[0m\u001B[0;34m,\u001B[0m \u001B[0mi\u001B[0m\u001B[0;34m]\u001B[0m\u001B[0;34m\u001B[0m\u001B[0;34m\u001B[0m\u001B[0m\n\u001B[1;32m    441\u001B[0m             \u001B[0mr2\u001B[0m \u001B[0;34m=\u001B[0m \u001B[0mself\u001B[0m\u001B[0;34m.\u001B[0m\u001B[0msymbolic_fun\u001B[0m\u001B[0;34m[\u001B[0m\u001B[0ml\u001B[0m\u001B[0;34m]\u001B[0m\u001B[0;34m.\u001B[0m\u001B[0mfix_symbolic\u001B[0m\u001B[0;34m(\u001B[0m\u001B[0mi\u001B[0m\u001B[0;34m,\u001B[0m \u001B[0mj\u001B[0m\u001B[0;34m,\u001B[0m \u001B[0mfun_name\u001B[0m\u001B[0;34m,\u001B[0m \u001B[0mx\u001B[0m\u001B[0;34m,\u001B[0m \u001B[0my\u001B[0m\u001B[0;34m,\u001B[0m \u001B[0ma_range\u001B[0m\u001B[0;34m=\u001B[0m\u001B[0ma_range\u001B[0m\u001B[0;34m,\u001B[0m \u001B[0mb_range\u001B[0m\u001B[0;34m=\u001B[0m\u001B[0mb_range\u001B[0m\u001B[0;34m,\u001B[0m \u001B[0mverbose\u001B[0m\u001B[0;34m=\u001B[0m\u001B[0mverbose\u001B[0m\u001B[0;34m)\u001B[0m\u001B[0;34m\u001B[0m\u001B[0;34m\u001B[0m\u001B[0m\n",
      "\u001B[0;32m~/anaconda3/envs/transformer-env/lib/python3.7/site-packages/torch/nn/modules/module.py\u001B[0m in \u001B[0;36m__getattr__\u001B[0;34m(self, name)\u001B[0m\n\u001B[1;32m   1268\u001B[0m                 \u001B[0;32mreturn\u001B[0m \u001B[0mmodules\u001B[0m\u001B[0;34m[\u001B[0m\u001B[0mname\u001B[0m\u001B[0;34m]\u001B[0m\u001B[0;34m\u001B[0m\u001B[0;34m\u001B[0m\u001B[0m\n\u001B[1;32m   1269\u001B[0m         raise AttributeError(\"'{}' object has no attribute '{}'\".format(\n\u001B[0;32m-> 1270\u001B[0;31m             type(self).__name__, name))\n\u001B[0m\u001B[1;32m   1271\u001B[0m \u001B[0;34m\u001B[0m\u001B[0m\n\u001B[1;32m   1272\u001B[0m     \u001B[0;32mdef\u001B[0m \u001B[0m__setattr__\u001B[0m\u001B[0;34m(\u001B[0m\u001B[0mself\u001B[0m\u001B[0;34m,\u001B[0m \u001B[0mname\u001B[0m\u001B[0;34m:\u001B[0m \u001B[0mstr\u001B[0m\u001B[0;34m,\u001B[0m \u001B[0mvalue\u001B[0m\u001B[0;34m:\u001B[0m \u001B[0mUnion\u001B[0m\u001B[0;34m[\u001B[0m\u001B[0mTensor\u001B[0m\u001B[0;34m,\u001B[0m \u001B[0;34m'Module'\u001B[0m\u001B[0;34m]\u001B[0m\u001B[0;34m)\u001B[0m \u001B[0;34m->\u001B[0m \u001B[0;32mNone\u001B[0m\u001B[0;34m:\u001B[0m\u001B[0;34m\u001B[0m\u001B[0;34m\u001B[0m\u001B[0m\n",
      "\u001B[0;31mAttributeError\u001B[0m: 'KAN' object has no attribute 'acts'"
     ]
    }
   ],
   "source": [
    "mode = \"auto\" # \"manual\"\n",
    "\"\"\"\n",
    "假设在一个神经网络模型中，坐标 (0,36,4) 可能表示：\n",
    "\n",
    "层索引 (0): 第一层或第一个处理阶段。\n",
    "单元索引 (36): 第一层中的第 37 个单元（因为索引从 0 开始）。\n",
    "通道或特征索引 (4): 第 5 个通道或特征\n",
    "\"\"\"\n",
    "\n",
    "if mode == \"manual\":\n",
    "    # manual mode\n",
    "    model.fix_symbolic(0,0,0,'sin');\n",
    "    model.fix_symbolic(0,1,0,'x^2');\n",
    "    model.fix_symbolic(1,0,0,'exp');\n",
    "elif mode == \"auto\":\n",
    "    # automatic mode\n",
    "    lib = ['x','x^2','x^3','x^4','exp','log','sqrt','tanh','sin','abs']\n",
    "    model.auto_symbolic(lib=lib)"
   ],
   "metadata": {
    "collapsed": false,
    "ExecuteTime": {
     "end_time": "2024-07-25T08:03:24.308514Z",
     "start_time": "2024-07-25T08:03:24.272112Z"
    }
   },
   "id": "740b60beea37ba9c"
  },
  {
   "cell_type": "code",
   "execution_count": null,
   "outputs": [],
   "source": [
    "from kan.utils import ex_round\n",
    "\n",
    "ex_round(model.symbolic_formula()[0][0],4)"
   ],
   "metadata": {
    "collapsed": false,
    "ExecuteTime": {
     "end_time": "2024-07-25T07:46:21.014229Z",
     "start_time": "2024-07-25T07:46:21.014202Z"
    }
   },
   "id": "289631e5c7bcf07c"
  },
  {
   "cell_type": "code",
   "execution_count": null,
   "outputs": [],
   "source": [],
   "metadata": {
    "collapsed": false,
    "ExecuteTime": {
     "end_time": "2024-07-25T07:46:21.014697Z",
     "start_time": "2024-07-25T07:46:21.014271Z"
    }
   },
   "id": "e5cdd24392dfec11"
  }
 ],
 "metadata": {
  "kernelspec": {
   "display_name": "Python 3",
   "language": "python",
   "name": "python3"
  },
  "language_info": {
   "codemirror_mode": {
    "name": "ipython",
    "version": 2
   },
   "file_extension": ".py",
   "mimetype": "text/x-python",
   "name": "python",
   "nbconvert_exporter": "python",
   "pygments_lexer": "ipython2",
   "version": "2.7.6"
  }
 },
 "nbformat": 4,
 "nbformat_minor": 5
}
