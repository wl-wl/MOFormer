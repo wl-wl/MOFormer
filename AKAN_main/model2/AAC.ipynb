{
 "cells": [
  {
   "cell_type": "code",
   "execution_count": 1,
   "id": "initial_id",
   "metadata": {
    "collapsed": true,
    "ExecuteTime": {
     "end_time": "2024-08-15T07:56:00.394120Z",
     "start_time": "2024-08-15T07:55:55.596868Z"
    }
   },
   "outputs": [],
   "source": [
    "from kan import KAN\n",
    "from collections import Counter\n",
    "from sklearn.model_selection import KFold, cross_val_score, train_test_split\n",
    "import matplotlib.pyplot as plt\n",
    "from sklearn.datasets import make_moons\n",
    "import torch\n",
    "from sklearn.utils import shuffle\n",
    "import random\n",
    "import numpy as np\n",
    "torch.set_default_dtype(torch.float32)"
   ]
  },
  {
   "cell_type": "code",
   "execution_count": 2,
   "outputs": [],
   "source": [
    "import pandas as pd\n",
    "df = pd.read_csv('/tmp/pycharm_project_763/data/trainCPP.csv')\n",
    "\n",
    "# 提取序列和标签\n",
    "sequences = df['sequence'].tolist()\n",
    "y = df['label'].tolist()\n",
    "\n",
    "df2= pd.read_csv('/tmp/pycharm_project_763/data/testCPP.csv')\n",
    "\n",
    "# 提取序列和标签\n",
    "sequences_test = df2['sequence'].tolist()\n",
    "y_test = df2['label'].tolist()"
   ],
   "metadata": {
    "collapsed": false,
    "ExecuteTime": {
     "end_time": "2024-08-15T07:56:49.953238Z",
     "start_time": "2024-08-15T07:56:49.942229Z"
    }
   },
   "id": "27941f903601892b"
  },
  {
   "cell_type": "code",
   "execution_count": 3,
   "outputs": [],
   "source": [
    "def calculate_aac(protein_list):\n",
    "    amino_acids = 'ACDEFGHIKLMNPQRSTVWY'\n",
    "\n",
    "    # 初始化存储结果的列表\n",
    "    aac_list = []\n",
    "\n",
    "    for protein_sequence in protein_list:\n",
    "        # 初始化AAC特征字典\n",
    "        aac = {aa: 0 for aa in amino_acids}\n",
    "\n",
    "        # 计算每种氨基酸在序列中的频率\n",
    "        for aa in protein_sequence:\n",
    "            if aa in aac:\n",
    "                aac[aa] += 1\n",
    "\n",
    "        # 将频率转换为比例\n",
    "        sequence_length = len(protein_sequence)\n",
    "        aac = [count / sequence_length for aa, count in aac.items()]\n",
    "\n",
    "        # 将结果添加到列表中\n",
    "        aac_list.append(aac)\n",
    "\n",
    "    return aac_list"
   ],
   "metadata": {
    "collapsed": false,
    "ExecuteTime": {
     "end_time": "2024-08-15T07:56:55.336252Z",
     "start_time": "2024-08-15T07:56:55.320361Z"
    }
   },
   "id": "3ca7a7e58d3ec1c7"
  },
  {
   "cell_type": "code",
   "execution_count": 4,
   "outputs": [],
   "source": [
    "aac_train = calculate_aac(sequences)\n",
    "aac_test = calculate_aac(sequences_test)"
   ],
   "metadata": {
    "collapsed": false,
    "ExecuteTime": {
     "end_time": "2024-08-15T07:57:00.679031Z",
     "start_time": "2024-08-15T07:57:00.673322Z"
    }
   },
   "id": "5251cef560671dcc"
  },
  {
   "cell_type": "code",
   "execution_count": 5,
   "outputs": [],
   "source": [
    "import scipy.stats.stats as st\n",
    "def AAcal(seqcont):\n",
    "    v=[]\n",
    "    for i in range(len(seqcont)):\n",
    "        vtar=seqcont[i]\n",
    "        vtarv=[]\n",
    "        vtar7=0\n",
    "        vtar8=0\n",
    "        vtar9=0\n",
    "        s = pd.Series(vtar)\n",
    "        vtar3=np.mean(vtar)  # These 4 dimensions are relevant statistical terms\n",
    "        vtar4=st.kurtosis(vtar)\n",
    "        vtar5=np.var(vtar)\n",
    "        vtar6=st.skew(vtar)\n",
    "        #for p in range(len(vtar)): # These 3 dimensions are inspired by PAFIG algorithm\n",
    "            #vtar7=vtar[p]**2+vtar7\n",
    "            #if vtar[p]>va:\n",
    "                #vtar8=vtar[p]**2+vtar8\n",
    "            #else:\n",
    "                #vtar9=vtar[p]**2+vtar9\n",
    "        vcf1=[]\n",
    "        vcf2=[]\n",
    "        for j in range(len(vtar)-1): #Sequence-order-correlation terms\n",
    "            vcf1.append((vtar[j]-vtar[j+1]))\n",
    "        for k in range(len(vtar)-2):\n",
    "            vcf2.append((vtar[k]-vtar[k+2]))\n",
    "        vtar10=np.mean(vcf1)\n",
    "        vtar11=np.var(vcf1)\n",
    "        vtar11A=st.kurtosis(vcf1)\n",
    "        vtar11B=st.skew(vcf1)\n",
    "        vtar12=np.mean(vcf2)\n",
    "        vtar13=np.var(vcf2)\n",
    "        vtar13A=st.kurtosis(vcf2)\n",
    "        vtar13B=st.skew(vcf2)\n",
    "        vtarv.append(vtar3)\n",
    "        vtarv.append(vtar4)\n",
    "        vtarv.append(vtar5)\n",
    "        vtarv.append(vtar6)\n",
    "        #vtarv.append(vtar7/len(vtar))\n",
    "        #vtarv.append(vtar8/len(vtar))\n",
    "        #vtarv.append(vtar9/len(vtar))\n",
    "        vtarv.append(vtar10)\n",
    "        vtarv.append(vtar11)\n",
    "        vtarv.append(vtar11A)\n",
    "        vtarv.append(vtar11B)\n",
    "        vtarv.append(vtar12)\n",
    "        vtarv.append(vtar13)\n",
    "        vtarv.append(vtar13A)\n",
    "        vtarv.append(vtar13B)\n",
    "        v.append(vtarv)\n",
    "    return v"
   ],
   "metadata": {
    "collapsed": false,
    "ExecuteTime": {
     "end_time": "2024-08-15T07:57:23.733136Z",
     "start_time": "2024-08-15T07:57:23.719988Z"
    }
   },
   "id": "b27f6ad709b0a6e7"
  },
  {
   "cell_type": "code",
   "execution_count": 25,
   "outputs": [],
   "source": [
    "AAC_2_train=AAcal(aac_train)\n",
    "AAC_2_test=AAcal(aac_test)"
   ],
   "metadata": {
    "collapsed": false,
    "ExecuteTime": {
     "end_time": "2024-08-15T08:23:18.826803Z",
     "start_time": "2024-08-15T08:23:18.826014Z"
    }
   },
   "id": "8dfd84924b520e17"
  },
  {
   "cell_type": "code",
   "execution_count": 28,
   "outputs": [],
   "source": [
    "AAC_2_train=np.concatenate((AAC_2_train,aac_train),axis=1)\n",
    "AAC_2_test=np.concatenate((AAC_2_test,aac_test),axis=1)"
   ],
   "metadata": {
    "collapsed": false,
    "ExecuteTime": {
     "end_time": "2024-08-15T08:24:09.698147Z",
     "start_time": "2024-08-15T08:24:09.691762Z"
    }
   },
   "id": "ec96ed12bfb03260"
  },
  {
   "cell_type": "code",
   "execution_count": 29,
   "outputs": [],
   "source": [
    "from sklearn.utils import shuffle\n",
    "X_train, y_train = shuffle(AAC_2_train, y, random_state=42)\n",
    "X_test, y_test = shuffle(AAC_2_test, y_test, random_state=42)"
   ],
   "metadata": {
    "collapsed": false,
    "ExecuteTime": {
     "end_time": "2024-08-15T08:24:10.342722Z",
     "start_time": "2024-08-15T08:24:10.338393Z"
    }
   },
   "id": "f1a455321c53f412"
  },
  {
   "cell_type": "code",
   "execution_count": 30,
   "outputs": [],
   "source": [
    "\n",
    "X_train = np.array(X_train)\n",
    "X_test = np.array(X_test)\n",
    "y_train = np.array(y_train)\n",
    "y_test = np.array(y_test)\n"
   ],
   "metadata": {
    "collapsed": false,
    "ExecuteTime": {
     "end_time": "2024-08-15T08:24:11.285584Z",
     "start_time": "2024-08-15T08:24:11.275667Z"
    }
   },
   "id": "a0f5cb5ee493695c"
  },
  {
   "cell_type": "code",
   "execution_count": 31,
   "outputs": [],
   "source": [
    "X_train = torch.tensor(X_train)\n",
    "y_train = torch.tensor(y_train).view(-1, 1)\n",
    "X_test = torch.tensor(X_test)\n",
    "y_test = torch.tensor(y_test).view(-1, 1)\n"
   ],
   "metadata": {
    "collapsed": false,
    "ExecuteTime": {
     "end_time": "2024-08-15T08:24:11.762277Z",
     "start_time": "2024-08-15T08:24:11.738847Z"
    }
   },
   "id": "42f240aea388f5a8"
  },
  {
   "cell_type": "code",
   "execution_count": 32,
   "outputs": [
    {
     "name": "stderr",
     "output_type": "stream",
     "text": [
      "/home/wangli/anaconda3/envs/transformer-env/lib/python3.7/site-packages/ipykernel_launcher.py:1: UserWarning: To copy construct from a tensor, it is recommended to use sourceTensor.clone().detach() or sourceTensor.clone().detach().requires_grad_(True), rather than torch.tensor(sourceTensor).\n",
      "  \"\"\"Entry point for launching an IPython kernel.\n",
      "/home/wangli/anaconda3/envs/transformer-env/lib/python3.7/site-packages/ipykernel_launcher.py:2: UserWarning: To copy construct from a tensor, it is recommended to use sourceTensor.clone().detach() or sourceTensor.clone().detach().requires_grad_(True), rather than torch.tensor(sourceTensor).\n",
      "  \n",
      "/home/wangli/anaconda3/envs/transformer-env/lib/python3.7/site-packages/ipykernel_launcher.py:3: UserWarning: To copy construct from a tensor, it is recommended to use sourceTensor.clone().detach() or sourceTensor.clone().detach().requires_grad_(True), rather than torch.tensor(sourceTensor).\n",
      "  This is separate from the ipykernel package so we can avoid doing imports until\n",
      "/home/wangli/anaconda3/envs/transformer-env/lib/python3.7/site-packages/ipykernel_launcher.py:4: UserWarning: To copy construct from a tensor, it is recommended to use sourceTensor.clone().detach() or sourceTensor.clone().detach().requires_grad_(True), rather than torch.tensor(sourceTensor).\n",
      "  after removing the cwd from sys.path.\n"
     ]
    }
   ],
   "source": [
    "X_train = torch.tensor(X_train ,dtype=torch.float32)\n",
    "y_train = torch.tensor(y_train,dtype=torch.float32)\n",
    "X_test = torch.tensor(X_test,dtype=torch.float32)\n",
    "y_test = torch.tensor(y_test,dtype=torch.float32)"
   ],
   "metadata": {
    "collapsed": false,
    "ExecuteTime": {
     "end_time": "2024-08-15T08:24:12.227632Z",
     "start_time": "2024-08-15T08:24:12.209433Z"
    }
   },
   "id": "6b60c8a9a125847d"
  },
  {
   "cell_type": "code",
   "execution_count": 33,
   "outputs": [
    {
     "data": {
      "text/plain": "(tensor([ 5.0000e-02,  3.7971e+00,  1.1963e-02,  2.2941e+00, -4.7847e-03,\n          1.2591e-02,  4.9100e+00,  1.1076e+00, -5.0505e-03,  2.7982e-02,\n          1.1770e+00,  4.0271e-01,  0.0000e+00,  0.0000e+00,  0.0000e+00,\n          0.0000e+00,  9.0909e-02,  0.0000e+00,  0.0000e+00,  9.0909e-02,\n          3.6364e-01,  3.6364e-01,  0.0000e+00,  0.0000e+00,  0.0000e+00,\n          0.0000e+00,  0.0000e+00,  0.0000e+00,  0.0000e+00,  0.0000e+00,\n          0.0000e+00,  9.0909e-02]),\n torch.Size([299, 32]))"
     },
     "execution_count": 33,
     "metadata": {},
     "output_type": "execute_result"
    }
   ],
   "source": [
    "X_test[0],X_test.shape"
   ],
   "metadata": {
    "collapsed": false,
    "ExecuteTime": {
     "end_time": "2024-08-15T08:24:12.764738Z",
     "start_time": "2024-08-15T08:24:12.757372Z"
    }
   },
   "id": "629b99ec53dae238"
  },
  {
   "cell_type": "code",
   "execution_count": 34,
   "outputs": [
    {
     "data": {
      "text/plain": "(tensor([0.]), torch.Size([299, 1]))"
     },
     "execution_count": 34,
     "metadata": {},
     "output_type": "execute_result"
    }
   ],
   "source": [
    "y_test[0],y_test.shape"
   ],
   "metadata": {
    "collapsed": false,
    "ExecuteTime": {
     "end_time": "2024-08-15T08:24:13.327887Z",
     "start_time": "2024-08-15T08:24:13.323998Z"
    }
   },
   "id": "2d53bfa7355077da"
  },
  {
   "cell_type": "code",
   "execution_count": 35,
   "outputs": [],
   "source": [
    "dataset = {}\n",
    "dataset = {\n",
    "    'train_input': X_train,\n",
    "    'test_input': X_test,\n",
    "    'train_label': y_train,\n",
    "    'test_label': y_test\n",
    "}"
   ],
   "metadata": {
    "collapsed": false,
    "ExecuteTime": {
     "end_time": "2024-08-15T08:24:14.000570Z",
     "start_time": "2024-08-15T08:24:13.996306Z"
    }
   },
   "id": "ae4575472f339b21"
  },
  {
   "cell_type": "code",
   "execution_count": 38,
   "outputs": [
    {
     "name": "stdout",
     "output_type": "stream",
     "text": [
      "checkpoint directory created: ./model\n",
      "saving model version 0.0\n"
     ]
    }
   ],
   "source": [
    "model = KAN(width=[32,3,1], grid=3, k=2, seed=42)"
   ],
   "metadata": {
    "collapsed": false,
    "ExecuteTime": {
     "end_time": "2024-08-15T08:35:32.231681Z",
     "start_time": "2024-08-15T08:35:32.216305Z"
    }
   },
   "id": "6859c761c46d8fa4"
  },
  {
   "cell_type": "code",
   "execution_count": 39,
   "outputs": [
    {
     "name": "stderr",
     "output_type": "stream",
     "text": [
      "| train_loss: 2.50e-01 | test_loss: 6.55e-01 | reg: 3.54e+01 | : 100%|█| 10/10 [02:34<00:00, 15.41s/"
     ]
    },
    {
     "name": "stdout",
     "output_type": "stream",
     "text": [
      "saving model version 0.1\n",
      "0.9441580772399902 0.5384615659713745\n"
     ]
    },
    {
     "name": "stderr",
     "output_type": "stream",
     "text": [
      "\n"
     ]
    }
   ],
   "source": [
    "def train_acc():\n",
    "    # pred=model(X_train)\n",
    "    # with torch.no_grad():\n",
    "    #     pred_labels = (pred > 0.5).float() \n",
    "    #     auc = roc_auc_score(y_train.cpu(), pred.cpu())\n",
    "    # \n",
    "    # # 混淆矩阵计算\n",
    "    #     tn, fp, fn, tp = confusion_matrix(y_train.cpu(), pred_labels.cpu()).ravel()\n",
    "    # \n",
    "    #     # Specificity (SP)\n",
    "    #     sp = tn / (tn + fp) if (tn + fp) > 0 else 0\n",
    "    # \n",
    "    #     # Sensitivity (SN)\n",
    "    #     sn = tp / (tp + fn) if (tp + fn) > 0 else 0\n",
    "    # \n",
    "    #     # Matthews Correlation Coefficient (MCC)\n",
    "    #     mcc = matthews_corrcoef(y_train.cpu(), pred_labels.cpu())\n",
    "    # print(f\"AUC: {auc:.4f}, SP: {sp:.4f}, MCC: {mcc:.4f}, SN: {sn:.4f}\")\n",
    "    return torch.mean((torch.round(model(X_train)[:, 0]) == y_train[:, 0]).float())\n",
    "\n",
    "def test_acc():\n",
    "    return torch.mean((torch.round(model(X_test)[:, 0]) == y_test[:, 0]).float())\n",
    "\n",
    "# results = model.train(dataset, opt=\"LBFGS\", steps=10, metrics=(train_acc, test_acc)) ,lamb=0.001 lamb_entropy=4.,lamb=0.1,lamb_l1=2.5,\n",
    "# lamb=0.005 train/fit\n",
    "results = model.fit(dataset, opt=\"LBFGS\", steps=10, metrics=(train_acc, test_acc));\n",
    "print(results['train_acc'][-1], results['test_acc'][-1])"
   ],
   "metadata": {
    "collapsed": false,
    "ExecuteTime": {
     "end_time": "2024-08-15T08:38:07.074539Z",
     "start_time": "2024-08-15T08:35:32.927658Z"
    }
   },
   "id": "2502349687a05d04"
  },
  {
   "cell_type": "code",
   "execution_count": null,
   "outputs": [],
   "source": [],
   "metadata": {
    "collapsed": false
   },
   "id": "51aa124ead39dd"
  }
 ],
 "metadata": {
  "kernelspec": {
   "display_name": "Python 3",
   "language": "python",
   "name": "python3"
  },
  "language_info": {
   "codemirror_mode": {
    "name": "ipython",
    "version": 2
   },
   "file_extension": ".py",
   "mimetype": "text/x-python",
   "name": "python",
   "nbconvert_exporter": "python",
   "pygments_lexer": "ipython2",
   "version": "2.7.6"
  }
 },
 "nbformat": 4,
 "nbformat_minor": 5
}
